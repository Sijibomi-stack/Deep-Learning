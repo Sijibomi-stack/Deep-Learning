{
 "cells": [
  {
   "cell_type": "markdown",
   "metadata": {},
   "source": [
    "# Deep Neural Networks Laboration\n",
    "\n",
    "Data used in this laboration are from the Kitsune Network Attack Dataset, https://archive.ics.uci.edu/ml/datasets/Kitsune+Network+Attack+Dataset . We will focus on the 'Mirai' part of the dataset. Your task is to make a DNN that can classify if each attack is benign or malicious. The dataset has 116 covariates, but to make it a bit more difficult we will remove the first 24 covariates.\n",
    "\n",
    "You need to answer all questions in this notebook."
   ]
  },
  {
   "cell_type": "markdown",
   "metadata": {},
   "source": [
    "# Part 1: Get the data\n",
    "\n",
    "Skip this part if you load stored numpy arrays (Mirai*.npy) (which is recommended)\n",
    "\n",
    "Use `wget` in the terminal of your cloud machine (in the same directory as where you have saved this notebook) to download the data, i.e.\n",
    "\n",
    "wget https://archive.ics.uci.edu/ml/machine-learning-databases/00516/mirai/Mirai_dataset.csv.gz\n",
    "\n",
    "wget https://archive.ics.uci.edu/ml/machine-learning-databases/00516/mirai/Mirai_labels.csv.gz\n",
    "\n",
    "Then unpack the files using `gunzip` in the terminal, i.e.\n",
    "\n",
    "gunzip Mirai_dataset.csv.gz\n",
    "\n",
    "gunzip Mirai_labels.csv.gz"
   ]
  },
  {
   "cell_type": "markdown",
   "metadata": {},
   "source": [
    "# Part 2: Get a graphics card\n",
    "\n",
    "Skip this part if you run on the CPU (recommended)\n",
    "\n",
    "Lets make sure that our script can see the graphics card that will be used. The graphics cards will perform all the time consuming calculations in every training iteration."
   ]
  },
  {
   "cell_type": "code",
   "execution_count": 11,
   "metadata": {},
   "outputs": [
    {
     "ename": "ModuleNotFoundError",
     "evalue": "No module named 'keras'",
     "output_type": "error",
     "traceback": [
      "\u001b[1;31m---------------------------------------------------------------------------\u001b[0m",
      "\u001b[1;31mModuleNotFoundError\u001b[0m                       Traceback (most recent call last)",
      "\u001b[1;32m~\\AppData\\Local\\Temp/ipykernel_7020/1675261813.py\u001b[0m in \u001b[0;36m<module>\u001b[1;34m\u001b[0m\n\u001b[0;32m      5\u001b[0m \u001b[0mwarnings\u001b[0m\u001b[1;33m.\u001b[0m\u001b[0msimplefilter\u001b[0m\u001b[1;33m(\u001b[0m\u001b[0maction\u001b[0m\u001b[1;33m=\u001b[0m\u001b[1;34m'ignore'\u001b[0m\u001b[1;33m,\u001b[0m \u001b[0mcategory\u001b[0m\u001b[1;33m=\u001b[0m\u001b[0mFutureWarning\u001b[0m\u001b[1;33m)\u001b[0m\u001b[1;33m\u001b[0m\u001b[1;33m\u001b[0m\u001b[0m\n\u001b[0;32m      6\u001b[0m \u001b[1;33m\u001b[0m\u001b[0m\n\u001b[1;32m----> 7\u001b[1;33m \u001b[1;32mimport\u001b[0m \u001b[0mkeras\u001b[0m\u001b[1;33m.\u001b[0m\u001b[0mbackend\u001b[0m \u001b[1;32mas\u001b[0m \u001b[0mK\u001b[0m\u001b[1;33m\u001b[0m\u001b[1;33m\u001b[0m\u001b[0m\n\u001b[0m\u001b[0;32m      8\u001b[0m \u001b[1;32mimport\u001b[0m \u001b[0mtensorflow\u001b[0m \u001b[1;32mas\u001b[0m \u001b[0mtf\u001b[0m\u001b[1;33m\u001b[0m\u001b[1;33m\u001b[0m\u001b[0m\n\u001b[0;32m      9\u001b[0m \u001b[1;33m\u001b[0m\u001b[0m\n",
      "\u001b[1;31mModuleNotFoundError\u001b[0m: No module named 'keras'"
     ]
    }
   ],
   "source": [
    "#import os\n",
    "#import warnings\n",
    "\n",
    "# Ignore FutureWarning from numpy\n",
    "#warnings.simplefilter(action='ignore', category=FutureWarning)\n",
    "\n",
    "#import keras.backend as K\n",
    "#import tensorflow as tf\n",
    "\n",
    "#os.environ[\"CUDA_DEVICE_ORDER\"]=\"PCI_BUS_ID\";\n",
    " \n",
    "# The GPU id to use, usually either \"0\" or \"1\";\n",
    "#os.environ[\"CUDA_VISIBLE_DEVICES\"]=\"0\";\n",
    "\n",
    "# Allow growth of GPU memory, otherwise it will always look like all the memory is being used\n",
    "#physical_devices = tf.config.experimental.list_physical_devices('GPU')\n",
    "#tf.config.experimental.set_memory_growth(physical_devices[0], True) "
   ]
  },
  {
   "cell_type": "code",
   "execution_count": null,
   "metadata": {},
   "outputs": [],
   "source": [
    "# Part 3: Hardware\n",
    "\n",
    "In deep learning, the computer hardware is very important. You should always know what kind of hardware you are working on. Lets pretend that everyone is using an Nvidia RTX 3090 graphics card.\n",
    "\n",
    "Question 1: Google the name of the graphics card, how many CUDA cores does it have?\n",
    "    # Nvidia RTX 3090 GPU Card has 10496 CUDA Cores\n",
    "\n",
    "Question 2: How much memory does the graphics card have?\n",
    "    # Nvidia RTX 3090 GPU Card has 24GB memory\n",
    "\n",
    "Question 3: What is stored in the GPU memory while training a DNN ?\n",
    "    # i Data stored in batches\n",
    "    # ii. Filter outputs for each layer\n",
    "    # iii. Weights of network \n",
    "    # iv. Gradients of all parameters"
   ]
  },
  {
   "cell_type": "markdown",
   "metadata": {},
   "source": [
    "# Part 4: Load the data\n",
    "\n",
    "To make this step easier, directly load the data from saved numpy arrays (.npy) (recommended)\n",
    "\n",
    "\n",
    "Load the dataset from the csv files, it will take some time since it is almost 1.4 GB. (not recommended, unless you want to learn how to do it)\n",
    "\n",
    "We will use the function `genfromtxt` to load the data. (not recommended, unless you want to learn how to do it)\n",
    "\n",
    "https://docs.scipy.org/doc/numpy/reference/generated/numpy.genfromtxt.html\n",
    "\n",
    "Load the data from csv files the first time, then save the data as numpy files for faster loading the next time.\n"
   ]
  },
  {
   "cell_type": "code",
   "execution_count": 3,
   "metadata": {},
   "outputs": [
    {
     "name": "stdout",
     "output_type": "stream",
     "text": [
      "The number of examples in class X (764137, 92).\n",
      "The number of examples in class Y (764137,).\n"
     ]
    }
   ],
   "source": [
    "from numpy import genfromtxt # Not needed if you load data from numpy arrays\n",
    "import numpy as np\n",
    "\n",
    "# Load data from numpy arrays, choose reduced files if the training takes too long\n",
    "X = np.load('Mirai_data.npy')\n",
    "Y = np.load('Mirai_labels.npy')\n",
    "\n",
    "# Remove the first 24 covariates (columns)\n",
    "X = np.delete(X,slice(0,24),axis=1)\n",
    "\n",
    "# Print the number of examples of each class\n",
    "print('The number of examples in class X {}.'.format(X.shape))\n",
    "print('The number of examples in class Y {}.'.format(Y.shape))\n",
    "    "
   ]
  },
  {
   "cell_type": "markdown",
   "metadata": {},
   "source": [
    "# Part 5: How good is a naive classifier?\n",
    "\n",
    "Question 4: Given the number of examples from each class, how high classification performance can a naive classifier obtain? The naive classifier will assume that all examples belong to one class. Note: you do not need to make a naive classifier, this is a theoretical question, just to understand how good performance we can obtain by guessing that all examples belong to one class."
   ]
  },
  {
   "cell_type": "code",
   "execution_count": 64,
   "metadata": {},
   "outputs": [],
   "source": [
    "# A Naive classifier is widel used because it's fast, precise and can classify up to 95% accuracy"
   ]
  },
  {
   "cell_type": "code",
   "execution_count": 4,
   "metadata": {},
   "outputs": [
    {
     "name": "stdout",
     "output_type": "stream",
     "text": [
      "the number of NaNs in the labels :  0\n",
      "the number of NaNs in the covariates :  0\n"
     ]
    }
   ],
   "source": [
    "# It is common to have NaNs in the data, lets check for it. Hint: np.isnan()\n",
    "\n",
    "# Print the number of NaNs (not a number) in the labels\n",
    "print(\"the number of NaNs in the labels : \",np.sum(np.isnan(Y)))\n",
    "\n",
    "# Print the number of NaNs in the covariates\n",
    "print(\"the number of NaNs in the covariates : \",np.sum(np.isnan(X)))"
   ]
  },
  {
   "cell_type": "markdown",
   "metadata": {},
   "source": [
    "# Part 6: Preprocessing\n",
    "\n",
    "Lets do some simple preprocessing"
   ]
  },
  {
   "cell_type": "code",
   "execution_count": 8,
   "metadata": {},
   "outputs": [
    {
     "name": "stdout",
     "output_type": "stream",
     "text": [
      "mean of all X :\n",
      "  [ 8.84842519e-02  1.71325955e+00  4.84714942e+00  1.73240693e-01\n",
      "  1.63718412e+00  4.95028469e+00  2.16093605e-01  2.63493748e+00\n",
      "  3.42618075e+00  1.81132159e-01  2.76335736e+00  2.19991906e-02\n",
      "  2.32010868e-02  4.72374129e-02  2.60262722e+00  3.43857741e+00\n",
      "  2.09734584e-01  2.77450258e+00  2.72671940e-02  3.22351108e-02\n",
      "  7.36250544e-02  2.99179193e+00  3.46776963e+00  2.56811085e-01\n",
      "  2.80190984e+00  4.07783408e-02  6.46380722e-02  1.25430254e-01\n",
      "  3.57177015e+00  3.48676917e+00  3.39951911e-01  2.81184663e+00\n",
      "  5.72305998e-02  1.61069367e-01  1.96777880e-01  3.03325894e+00\n",
      "  3.47032092e+00  3.43749693e-01  2.79536505e+00  5.02286258e-02\n",
      "  2.22689854e-01  2.36792137e-01  2.63493748e+00  2.41813111e-02\n",
      "  1.57962912e-02  2.60262722e+00  2.57839855e-02  2.30898139e-02\n",
      "  2.99179193e+00  3.22489912e-02  3.59076403e-02  3.57177015e+00\n",
      "  5.32304659e-02  7.53219640e-02  3.03325894e+00  8.09076995e-02\n",
      "  1.32545399e-01  1.31299361e+00  3.39924713e+00  7.53369415e-02\n",
      "  3.01667201e+00  3.77607723e-02  1.65826958e-05 -8.04955626e-03\n",
      "  1.39939760e+00  3.39869907e+00  7.65746111e-02  3.01602734e+00\n",
      "  3.88359626e-02  3.84093824e-04 -6.84275309e-03  1.56981568e+00\n",
      "  3.39580657e+00  9.22064420e-02  3.01344864e+00  4.27065377e-02\n",
      "  1.35941117e-03 -4.63966396e-03  1.59092737e+00  3.37521279e+00\n",
      "  1.08250904e-01  2.97116961e+00  5.92174778e-02 -7.48851020e-04\n",
      " -6.67040537e-03  1.52474214e+00  3.35364562e+00  1.12236595e-01\n",
      "  2.95683218e+00  5.89723051e-02  7.34254337e-03  9.80573220e-03]\n"
     ]
    },
    {
     "ename": "MemoryError",
     "evalue": "Unable to allocate 536. MiB for an array with shape (764137, 92) and data type float64",
     "output_type": "error",
     "traceback": [
      "\u001b[1;31m---------------------------------------------------------------------------\u001b[0m",
      "\u001b[1;31mMemoryError\u001b[0m                               Traceback (most recent call last)",
      "Input \u001b[1;32mIn [8]\u001b[0m, in \u001b[0;36m<cell line: 15>\u001b[1;34m()\u001b[0m\n\u001b[0;32m     13\u001b[0m \u001b[38;5;66;03m# Check that mean is 0 and standard deviation is 1 for all covariates, by printing mean and std\u001b[39;00m\n\u001b[0;32m     14\u001b[0m \u001b[38;5;28mprint\u001b[39m(\u001b[38;5;124m\"\u001b[39m\u001b[38;5;124mmean of all X :\u001b[39m\u001b[38;5;130;01m\\n\u001b[39;00m\u001b[38;5;124m \u001b[39m\u001b[38;5;124m\"\u001b[39m,np\u001b[38;5;241m.\u001b[39mmean(X,axis\u001b[38;5;241m=\u001b[39m\u001b[38;5;241m0\u001b[39m))\n\u001b[1;32m---> 15\u001b[0m \u001b[38;5;28mprint\u001b[39m(\u001b[38;5;124m\"\u001b[39m\u001b[38;5;124mStandard deviation of all X :\u001b[39m\u001b[38;5;130;01m\\n\u001b[39;00m\u001b[38;5;124m \u001b[39m\u001b[38;5;124m\"\u001b[39m, \u001b[43mnp\u001b[49m\u001b[38;5;241;43m.\u001b[39;49m\u001b[43mstd\u001b[49m\u001b[43m(\u001b[49m\u001b[43mX\u001b[49m\u001b[43m,\u001b[49m\u001b[43maxis\u001b[49m\u001b[38;5;241;43m=\u001b[39;49m\u001b[38;5;241;43m0\u001b[39;49m\u001b[43m)\u001b[49m)\n",
      "File \u001b[1;32m<__array_function__ internals>:5\u001b[0m, in \u001b[0;36mstd\u001b[1;34m(*args, **kwargs)\u001b[0m\n",
      "File \u001b[1;32m~\\.conda\\envs\\Tensorflow\\lib\\site-packages\\numpy\\core\\fromnumeric.py:3581\u001b[0m, in \u001b[0;36mstd\u001b[1;34m(a, axis, dtype, out, ddof, keepdims, where)\u001b[0m\n\u001b[0;32m   3578\u001b[0m     \u001b[38;5;28;01melse\u001b[39;00m:\n\u001b[0;32m   3579\u001b[0m         \u001b[38;5;28;01mreturn\u001b[39;00m std(axis\u001b[38;5;241m=\u001b[39maxis, dtype\u001b[38;5;241m=\u001b[39mdtype, out\u001b[38;5;241m=\u001b[39mout, ddof\u001b[38;5;241m=\u001b[39mddof, \u001b[38;5;241m*\u001b[39m\u001b[38;5;241m*\u001b[39mkwargs)\n\u001b[1;32m-> 3581\u001b[0m \u001b[38;5;28;01mreturn\u001b[39;00m _methods\u001b[38;5;241m.\u001b[39m_std(a, axis\u001b[38;5;241m=\u001b[39maxis, dtype\u001b[38;5;241m=\u001b[39mdtype, out\u001b[38;5;241m=\u001b[39mout, ddof\u001b[38;5;241m=\u001b[39mddof,\n\u001b[0;32m   3582\u001b[0m                      \u001b[38;5;241m*\u001b[39m\u001b[38;5;241m*\u001b[39mkwargs)\n",
      "File \u001b[1;32m~\\.conda\\envs\\Tensorflow\\lib\\site-packages\\numpy\\core\\_methods.py:262\u001b[0m, in \u001b[0;36m_std\u001b[1;34m(a, axis, dtype, out, ddof, keepdims, where)\u001b[0m\n\u001b[0;32m    260\u001b[0m \u001b[38;5;28;01mdef\u001b[39;00m \u001b[38;5;21m_std\u001b[39m(a, axis\u001b[38;5;241m=\u001b[39m\u001b[38;5;28;01mNone\u001b[39;00m, dtype\u001b[38;5;241m=\u001b[39m\u001b[38;5;28;01mNone\u001b[39;00m, out\u001b[38;5;241m=\u001b[39m\u001b[38;5;28;01mNone\u001b[39;00m, ddof\u001b[38;5;241m=\u001b[39m\u001b[38;5;241m0\u001b[39m, keepdims\u001b[38;5;241m=\u001b[39m\u001b[38;5;28;01mFalse\u001b[39;00m, \u001b[38;5;241m*\u001b[39m,\n\u001b[0;32m    261\u001b[0m          where\u001b[38;5;241m=\u001b[39m\u001b[38;5;28;01mTrue\u001b[39;00m):\n\u001b[1;32m--> 262\u001b[0m     ret \u001b[38;5;241m=\u001b[39m \u001b[43m_var\u001b[49m\u001b[43m(\u001b[49m\u001b[43ma\u001b[49m\u001b[43m,\u001b[49m\u001b[43m \u001b[49m\u001b[43maxis\u001b[49m\u001b[38;5;241;43m=\u001b[39;49m\u001b[43maxis\u001b[49m\u001b[43m,\u001b[49m\u001b[43m \u001b[49m\u001b[43mdtype\u001b[49m\u001b[38;5;241;43m=\u001b[39;49m\u001b[43mdtype\u001b[49m\u001b[43m,\u001b[49m\u001b[43m \u001b[49m\u001b[43mout\u001b[49m\u001b[38;5;241;43m=\u001b[39;49m\u001b[43mout\u001b[49m\u001b[43m,\u001b[49m\u001b[43m \u001b[49m\u001b[43mddof\u001b[49m\u001b[38;5;241;43m=\u001b[39;49m\u001b[43mddof\u001b[49m\u001b[43m,\u001b[49m\n\u001b[0;32m    263\u001b[0m \u001b[43m               \u001b[49m\u001b[43mkeepdims\u001b[49m\u001b[38;5;241;43m=\u001b[39;49m\u001b[43mkeepdims\u001b[49m\u001b[43m,\u001b[49m\u001b[43m \u001b[49m\u001b[43mwhere\u001b[49m\u001b[38;5;241;43m=\u001b[39;49m\u001b[43mwhere\u001b[49m\u001b[43m)\u001b[49m\n\u001b[0;32m    265\u001b[0m     \u001b[38;5;28;01mif\u001b[39;00m \u001b[38;5;28misinstance\u001b[39m(ret, mu\u001b[38;5;241m.\u001b[39mndarray):\n\u001b[0;32m    266\u001b[0m         ret \u001b[38;5;241m=\u001b[39m um\u001b[38;5;241m.\u001b[39msqrt(ret, out\u001b[38;5;241m=\u001b[39mret)\n",
      "File \u001b[1;32m~\\.conda\\envs\\Tensorflow\\lib\\site-packages\\numpy\\core\\_methods.py:230\u001b[0m, in \u001b[0;36m_var\u001b[1;34m(a, axis, dtype, out, ddof, keepdims, where)\u001b[0m\n\u001b[0;32m    225\u001b[0m     arrmean \u001b[38;5;241m=\u001b[39m arrmean\u001b[38;5;241m.\u001b[39mdtype\u001b[38;5;241m.\u001b[39mtype(arrmean \u001b[38;5;241m/\u001b[39m rcount)\n\u001b[0;32m    227\u001b[0m \u001b[38;5;66;03m# Compute sum of squared deviations from mean\u001b[39;00m\n\u001b[0;32m    228\u001b[0m \u001b[38;5;66;03m# Note that x may not be inexact and that we need it to be an array,\u001b[39;00m\n\u001b[0;32m    229\u001b[0m \u001b[38;5;66;03m# not a scalar.\u001b[39;00m\n\u001b[1;32m--> 230\u001b[0m x \u001b[38;5;241m=\u001b[39m asanyarray(\u001b[43marr\u001b[49m\u001b[43m \u001b[49m\u001b[38;5;241;43m-\u001b[39;49m\u001b[43m \u001b[49m\u001b[43marrmean\u001b[49m)\n\u001b[0;32m    232\u001b[0m \u001b[38;5;28;01mif\u001b[39;00m \u001b[38;5;28missubclass\u001b[39m(arr\u001b[38;5;241m.\u001b[39mdtype\u001b[38;5;241m.\u001b[39mtype, (nt\u001b[38;5;241m.\u001b[39mfloating, nt\u001b[38;5;241m.\u001b[39minteger)):\n\u001b[0;32m    233\u001b[0m     x \u001b[38;5;241m=\u001b[39m um\u001b[38;5;241m.\u001b[39mmultiply(x, x, out\u001b[38;5;241m=\u001b[39mx)\n",
      "\u001b[1;31mMemoryError\u001b[0m: Unable to allocate 536. MiB for an array with shape (764137, 92) and data type float64"
     ]
    }
   ],
   "source": [
    "# Convert covariates to floats\n",
    "X.astype(float)\n",
    "\n",
    "# Convert labels to integers\n",
    "Y.astype(int)\n",
    "\n",
    "# Remove mean of each covariate (column)\n",
    "mu_X = X - np.mean(X,axis=0)\n",
    "\n",
    "# Divide each covariate (column) by its standard deviation\n",
    "X = X/np.std(X,axis=0)\n",
    "\n",
    "# Check that mean is 0 and standard deviation is 1 for all covariates, by printing mean and std\n",
    "print(\"mean of all X :\\n \",np.mean(X,axis=0))\n",
    "print(\"Standard deviation of all X :\\n \", np.std(X,axis=0))  "
   ]
  },
  {
   "cell_type": "markdown",
   "metadata": {},
   "source": [
    "# Part 7: Split the dataset\n",
    "\n",
    "Use the first 70% of the dataset for training, leave the other 30% for validation and test, call the variables\n",
    "\n",
    "Xtrain (70%)\n",
    "\n",
    "Xtemp  (30%)\n",
    "\n",
    "Ytrain (70%)\n",
    "\n",
    "Ytemp  (30%)\n",
    "\n",
    "We use a function from scikit learn.\n",
    "https://scikit-learn.org/stable/modules/generated/sklearn.model_selection.train_test_split.html\n"
   ]
  },
  {
   "cell_type": "code",
   "execution_count": 9,
   "metadata": {},
   "outputs": [
    {
     "name": "stdout",
     "output_type": "stream",
     "text": [
      "Xtrain has size (534895, 92).\n",
      "Ytrain has size (534895,).\n",
      "Xtemp has size (229242, 92).\n",
      "Ytemp has size (229242,).\n"
     ]
    }
   ],
   "source": [
    "from sklearn.model_selection import train_test_split\n",
    "\n",
    "# Your code\n",
    "Xtrain, Xtemp, Ytrain, Ytemp = train_test_split(X, Y,train_size=0.7, test_size=0.3)\n",
    "\n",
    "# Print the number of examples of each class, for the training data and the remaining 30%\n",
    "print('Xtrain has size {}.'.format(Xtrain.shape))\n",
    "print('Ytrain has size {}.'.format(Ytrain.shape))\n",
    "\n",
    "print('Xtemp has size {}.'.format(Xtemp.shape))\n",
    "print('Ytemp has size {}.'.format(Ytemp.shape))\n"
   ]
  },
  {
   "cell_type": "markdown",
   "metadata": {},
   "source": [
    "#  Part 8: Split non-training data data into validation and test\n",
    "Now split your non-training data (Xtemp, Ytemp) into 50% validation (Xval, Yval) and 50% testing (Xtest, Ytest), we use a function from scikit learn. In total this gives us 70% for training, 15% for validation, 15% for test.\n",
    "\n",
    "https://scikit-learn.org/stable/modules/generated/sklearn.model_selection.train_test_split.html\n",
    "\n",
    "Do all variables (Xtrain,Ytrain), (Xval,Yval), (Xtest,Ytest) have the shape that you expect?"
   ]
  },
  {
   "cell_type": "code",
   "execution_count": 10,
   "metadata": {
    "scrolled": true
   },
   "outputs": [
    {
     "ename": "MemoryError",
     "evalue": "Unable to allocate 80.5 MiB for an array with shape (114621, 92) and data type float64",
     "output_type": "error",
     "traceback": [
      "\u001b[1;31m---------------------------------------------------------------------------\u001b[0m",
      "\u001b[1;31mMemoryError\u001b[0m                               Traceback (most recent call last)",
      "Input \u001b[1;32mIn [10]\u001b[0m, in \u001b[0;36m<cell line: 2>\u001b[1;34m()\u001b[0m\n\u001b[0;32m      1\u001b[0m \u001b[38;5;28;01mfrom\u001b[39;00m \u001b[38;5;21;01msklearn\u001b[39;00m\u001b[38;5;21;01m.\u001b[39;00m\u001b[38;5;21;01mmodel_selection\u001b[39;00m \u001b[38;5;28;01mimport\u001b[39;00m train_test_split\n\u001b[1;32m----> 2\u001b[0m Xval,Xtest, Yval, Ytest \u001b[38;5;241m=\u001b[39m \u001b[43mtrain_test_split\u001b[49m\u001b[43m(\u001b[49m\u001b[43mXtemp\u001b[49m\u001b[43m,\u001b[49m\u001b[43m \u001b[49m\u001b[43mYtemp\u001b[49m\u001b[43m,\u001b[49m\u001b[43m \u001b[49m\u001b[43mtest_size\u001b[49m\u001b[38;5;241;43m=\u001b[39;49m\u001b[38;5;241;43m0.5\u001b[39;49m\u001b[43m,\u001b[49m\u001b[43mtrain_size\u001b[49m\u001b[38;5;241;43m=\u001b[39;49m\u001b[38;5;241;43m0.5\u001b[39;49m\u001b[43m)\u001b[49m\n\u001b[0;32m      3\u001b[0m \u001b[38;5;28mprint\u001b[39m(\u001b[38;5;124m'\u001b[39m\u001b[38;5;124mValidation and test samples are \u001b[39m\u001b[38;5;132;01m{}\u001b[39;00m\u001b[38;5;124m, \u001b[39m\u001b[38;5;132;01m{}\u001b[39;00m\u001b[38;5;124m, \u001b[39m\u001b[38;5;132;01m{}\u001b[39;00m\u001b[38;5;124m and \u001b[39m\u001b[38;5;132;01m{}\u001b[39;00m\u001b[38;5;124m'\u001b[39m\u001b[38;5;241m.\u001b[39mformat(Xval\u001b[38;5;241m.\u001b[39mshape, Xtest\u001b[38;5;241m.\u001b[39mshape, Yval\u001b[38;5;241m.\u001b[39mshape, Ytest\u001b[38;5;241m.\u001b[39mshape))\n\u001b[0;32m      4\u001b[0m Xval\n",
      "File \u001b[1;32m~\\.conda\\envs\\Tensorflow\\lib\\site-packages\\sklearn\\model_selection\\_split.py:2443\u001b[0m, in \u001b[0;36mtrain_test_split\u001b[1;34m(test_size, train_size, random_state, shuffle, stratify, *arrays)\u001b[0m\n\u001b[0;32m   2439\u001b[0m     cv \u001b[38;5;241m=\u001b[39m CVClass(test_size\u001b[38;5;241m=\u001b[39mn_test, train_size\u001b[38;5;241m=\u001b[39mn_train, random_state\u001b[38;5;241m=\u001b[39mrandom_state)\n\u001b[0;32m   2441\u001b[0m     train, test \u001b[38;5;241m=\u001b[39m \u001b[38;5;28mnext\u001b[39m(cv\u001b[38;5;241m.\u001b[39msplit(X\u001b[38;5;241m=\u001b[39marrays[\u001b[38;5;241m0\u001b[39m], y\u001b[38;5;241m=\u001b[39mstratify))\n\u001b[1;32m-> 2443\u001b[0m \u001b[38;5;28;01mreturn\u001b[39;00m \u001b[38;5;28;43mlist\u001b[39;49m\u001b[43m(\u001b[49m\n\u001b[0;32m   2444\u001b[0m \u001b[43m    \u001b[49m\u001b[43mchain\u001b[49m\u001b[38;5;241;43m.\u001b[39;49m\u001b[43mfrom_iterable\u001b[49m\u001b[43m(\u001b[49m\n\u001b[0;32m   2445\u001b[0m \u001b[43m        \u001b[49m\u001b[43m(\u001b[49m\u001b[43m_safe_indexing\u001b[49m\u001b[43m(\u001b[49m\u001b[43ma\u001b[49m\u001b[43m,\u001b[49m\u001b[43m \u001b[49m\u001b[43mtrain\u001b[49m\u001b[43m)\u001b[49m\u001b[43m,\u001b[49m\u001b[43m \u001b[49m\u001b[43m_safe_indexing\u001b[49m\u001b[43m(\u001b[49m\u001b[43ma\u001b[49m\u001b[43m,\u001b[49m\u001b[43m \u001b[49m\u001b[43mtest\u001b[49m\u001b[43m)\u001b[49m\u001b[43m)\u001b[49m\u001b[43m \u001b[49m\u001b[38;5;28;43;01mfor\u001b[39;49;00m\u001b[43m \u001b[49m\u001b[43ma\u001b[49m\u001b[43m \u001b[49m\u001b[38;5;129;43;01min\u001b[39;49;00m\u001b[43m \u001b[49m\u001b[43marrays\u001b[49m\n\u001b[0;32m   2446\u001b[0m \u001b[43m    \u001b[49m\u001b[43m)\u001b[49m\n\u001b[0;32m   2447\u001b[0m \u001b[43m\u001b[49m\u001b[43m)\u001b[49m\n",
      "File \u001b[1;32m~\\.conda\\envs\\Tensorflow\\lib\\site-packages\\sklearn\\model_selection\\_split.py:2445\u001b[0m, in \u001b[0;36m<genexpr>\u001b[1;34m(.0)\u001b[0m\n\u001b[0;32m   2439\u001b[0m     cv \u001b[38;5;241m=\u001b[39m CVClass(test_size\u001b[38;5;241m=\u001b[39mn_test, train_size\u001b[38;5;241m=\u001b[39mn_train, random_state\u001b[38;5;241m=\u001b[39mrandom_state)\n\u001b[0;32m   2441\u001b[0m     train, test \u001b[38;5;241m=\u001b[39m \u001b[38;5;28mnext\u001b[39m(cv\u001b[38;5;241m.\u001b[39msplit(X\u001b[38;5;241m=\u001b[39marrays[\u001b[38;5;241m0\u001b[39m], y\u001b[38;5;241m=\u001b[39mstratify))\n\u001b[0;32m   2443\u001b[0m \u001b[38;5;28;01mreturn\u001b[39;00m \u001b[38;5;28mlist\u001b[39m(\n\u001b[0;32m   2444\u001b[0m     chain\u001b[38;5;241m.\u001b[39mfrom_iterable(\n\u001b[1;32m-> 2445\u001b[0m         (_safe_indexing(a, train), \u001b[43m_safe_indexing\u001b[49m\u001b[43m(\u001b[49m\u001b[43ma\u001b[49m\u001b[43m,\u001b[49m\u001b[43m \u001b[49m\u001b[43mtest\u001b[49m\u001b[43m)\u001b[49m) \u001b[38;5;28;01mfor\u001b[39;00m a \u001b[38;5;129;01min\u001b[39;00m arrays\n\u001b[0;32m   2446\u001b[0m     )\n\u001b[0;32m   2447\u001b[0m )\n",
      "File \u001b[1;32m~\\.conda\\envs\\Tensorflow\\lib\\site-packages\\sklearn\\utils\\__init__.py:378\u001b[0m, in \u001b[0;36m_safe_indexing\u001b[1;34m(X, indices, axis)\u001b[0m\n\u001b[0;32m    376\u001b[0m     \u001b[38;5;28;01mreturn\u001b[39;00m _pandas_indexing(X, indices, indices_dtype, axis\u001b[38;5;241m=\u001b[39maxis)\n\u001b[0;32m    377\u001b[0m \u001b[38;5;28;01melif\u001b[39;00m \u001b[38;5;28mhasattr\u001b[39m(X, \u001b[38;5;124m\"\u001b[39m\u001b[38;5;124mshape\u001b[39m\u001b[38;5;124m\"\u001b[39m):\n\u001b[1;32m--> 378\u001b[0m     \u001b[38;5;28;01mreturn\u001b[39;00m \u001b[43m_array_indexing\u001b[49m\u001b[43m(\u001b[49m\u001b[43mX\u001b[49m\u001b[43m,\u001b[49m\u001b[43m \u001b[49m\u001b[43mindices\u001b[49m\u001b[43m,\u001b[49m\u001b[43m \u001b[49m\u001b[43mindices_dtype\u001b[49m\u001b[43m,\u001b[49m\u001b[43m \u001b[49m\u001b[43maxis\u001b[49m\u001b[38;5;241;43m=\u001b[39;49m\u001b[43maxis\u001b[49m\u001b[43m)\u001b[49m\n\u001b[0;32m    379\u001b[0m \u001b[38;5;28;01melse\u001b[39;00m:\n\u001b[0;32m    380\u001b[0m     \u001b[38;5;28;01mreturn\u001b[39;00m _list_indexing(X, indices, indices_dtype)\n",
      "File \u001b[1;32m~\\.conda\\envs\\Tensorflow\\lib\\site-packages\\sklearn\\utils\\__init__.py:202\u001b[0m, in \u001b[0;36m_array_indexing\u001b[1;34m(array, key, key_dtype, axis)\u001b[0m\n\u001b[0;32m    200\u001b[0m \u001b[38;5;28;01mif\u001b[39;00m \u001b[38;5;28misinstance\u001b[39m(key, \u001b[38;5;28mtuple\u001b[39m):\n\u001b[0;32m    201\u001b[0m     key \u001b[38;5;241m=\u001b[39m \u001b[38;5;28mlist\u001b[39m(key)\n\u001b[1;32m--> 202\u001b[0m \u001b[38;5;28;01mreturn\u001b[39;00m \u001b[43marray\u001b[49m\u001b[43m[\u001b[49m\u001b[43mkey\u001b[49m\u001b[43m]\u001b[49m \u001b[38;5;28;01mif\u001b[39;00m axis \u001b[38;5;241m==\u001b[39m \u001b[38;5;241m0\u001b[39m \u001b[38;5;28;01melse\u001b[39;00m array[:, key]\n",
      "\u001b[1;31mMemoryError\u001b[0m: Unable to allocate 80.5 MiB for an array with shape (114621, 92) and data type float64"
     ]
    }
   ],
   "source": [
    "from sklearn.model_selection import train_test_split\n",
    "Xval,Xtest, Yval, Ytest = train_test_split(Xtemp, Ytemp, test_size=0.5,train_size=0.5)\n",
    "print('Validation and test samples are {}, {}, {} and {}'.format(Xval.shape, Xtest.shape, Yval.shape, Ytest.shape))\n",
    "Xval\n",
    "Yval"
   ]
  },
  {
   "cell_type": "markdown",
   "metadata": {},
   "source": [
    "# Part 9: DNN classification\n",
    "\n",
    "Finish this code to create a first version of the classifier using a DNN. Start with a simple network with 2 dense layers (with 20 nodes each), using sigmoid activation functions. The final dense layer should have a single node and a sigmoid activation function. We start with the SGD optimizer.\n",
    "\n",
    "For different parts of this notebook you need to go back here, add more things, and re-run this cell to re-define the build function.\n",
    "\n",
    "Relevant functions are\n",
    "\n",
    "`model.add()`, adds a layer to the network\n",
    "\n",
    "`Dense()`, a dense network layer\n",
    "\n",
    "`model.compile()`, compile the model, add \" metrics=['accuracy'] \" to print the classification accuracy during the training\n",
    "\n",
    "See https://keras.io/layers/core/ for information on how the `Dense()` function works\n",
    "\n",
    "Import a relevant cost / loss function for binary classification from keras.losses (https://keras.io/losses/)\n",
    "\n",
    "See the following links for how to compile, train and evaluate the model\n",
    "\n",
    "https://keras.io/api/models/model_training_apis/#compile-method\n",
    "\n",
    "https://keras.io/api/models/model_training_apis/#fit-method\n",
    "\n",
    "https://keras.io/api/models/model_training_apis/#evaluate-method\n"
   ]
  },
  {
   "cell_type": "code",
   "execution_count": 69,
   "metadata": {},
   "outputs": [],
   "source": [
    "\n",
    "from keras.models import Sequential, Model\n",
    "from keras.layers import Input, Dense, Activation\n",
    "from tensorflow.keras.optimizers import SGD\n",
    "from keras.losses import binary_crossentropy as BC\n",
    "\n",
    "\n",
    "# Set seed from random number generator, for better comparisons\n",
    "from numpy.random import seed\n",
    "seed(123)\n",
    "\n",
    "def build_DNN(input_shape, number_layers, number_nodes, act_fun='sigmoid', optimizer='sgd', learning_rate=0.1, \n",
    "              use_bn=False, use_dropout=False, use_custom_dropout=False):\n",
    "    \n",
    "    # Setup optimizer, depending on input parameter string\n",
    "    if optimizer == 'sgd':\n",
    "        opt = SGD(learning_rate=learning_rate)\n",
    "    if optimizer == 'adam':\n",
    "        opt = Adam(learning_rate=learning_rate)\n",
    "    # Setup a sequential model\n",
    "    model = Sequential()\n",
    "    # Add layers to the model, using the input parameters of the build_DNN function   \n",
    "    # Add first layer, requires input shape\n",
    "    model.add(Dense(number_nodes,activation=act_fun,input_dim=input_shape[1]))\n",
    "    if use_bn == True:\n",
    "        model.add(BatchNormalization())\n",
    "    if use_dropout == True:\n",
    "        model.add(Dropout(0.5))\n",
    "    if use_custom_dropout == True:\n",
    "        model.add(myDropout(rate=learning_rate,training = True))\n",
    "    \n",
    "    # Add remaining layers, do not require input shape\n",
    "    for i in range(number_layers-1):\n",
    "        model.add(Dense(number_nodes,activation=act_fun))\n",
    "    if use_bn==True:\n",
    "        model.add(BatchNormalization())\n",
    "    if use_dropout==True:\n",
    "        model.add(Dropout(0.5))\n",
    "    if use_custom_dropout==True:\n",
    "        model.add(myDropout(rate=learning_rate,training=True))\n",
    "    \n",
    "    # Add final layer\n",
    "    model.add(Dense(1,activation='sigmoid'))\n",
    "       \n",
    "    # Compile model\n",
    "    model.compile(loss=BC,optimizer=opt,metrics=['accuracy'])\n",
    "    return model"
   ]
  },
  {
   "cell_type": "code",
   "execution_count": 70,
   "metadata": {},
   "outputs": [],
   "source": [
    "# Lets define a help function for plotting the training results\n",
    "\n",
    "import matplotlib.pyplot as plt\n",
    "def plot_results(history):\n",
    "    \n",
    "    val_loss = history.history['val_loss']\n",
    "    acc = history.history['accuracy']\n",
    "    loss = history.history['loss']\n",
    "    val_acc = history.history['val_accuracy']\n",
    "    \n",
    "    plt.figure(figsize=(10,4))\n",
    "    plt.xlabel('Epochs')\n",
    "    plt.ylabel('Loss')\n",
    "    plt.plot(loss)\n",
    "    plt.plot(val_loss)\n",
    "    plt.legend(['Training','Validation'])\n",
    "\n",
    "    plt.figure(figsize=(10,4))\n",
    "    plt.xlabel('Epochs')\n",
    "    plt.ylabel('Accuracy')\n",
    "    plt.plot(acc)\n",
    "    plt.plot(val_acc)\n",
    "    plt.legend(['Training','Validation'])\n",
    "\n",
    "    plt.show()"
   ]
  },
  {
   "cell_type": "markdown",
   "metadata": {},
   "source": [
    "# Part 10: Train the DNN\n",
    "\n",
    "Time to train the DNN, we start simple with 2 layers with 20 nodes each, learning rate 0.1.\n",
    "\n",
    "Relevant functions\n",
    "\n",
    "`build_DNN`, the function we defined in Part 9, call it with the parameters you want to use\n",
    "\n",
    "`model.fit()`, train the model with some training data\n",
    "\n",
    "`model.evaluate()`, apply the trained model to some test data\n",
    "\n",
    "See the following links for how to train and evaluate the model\n",
    "\n",
    "https://keras.io/api/models/model_training_apis/#fit-method\n",
    "\n",
    "https://keras.io/api/models/model_training_apis/#evaluate-method\n"
   ]
  },
  {
   "cell_type": "markdown",
   "metadata": {},
   "source": [
    "### 2 layers, 20 nodes"
   ]
  },
  {
   "cell_type": "code",
   "execution_count": 71,
   "metadata": {
    "scrolled": true
   },
   "outputs": [
    {
     "name": "stdout",
     "output_type": "stream",
     "text": [
      "Epoch 1/20\n",
      "54/54 [==============================] - 2s 34ms/step - loss: 0.4392 - accuracy: 0.8406 - val_loss: 0.4239 - val_accuracy: 0.8401\n",
      "Epoch 2/20\n",
      "54/54 [==============================] - 2s 43ms/step - loss: 0.4122 - accuracy: 0.8406 - val_loss: 0.3991 - val_accuracy: 0.8401\n",
      "Epoch 3/20\n",
      "54/54 [==============================] - 2s 41ms/step - loss: 0.3801 - accuracy: 0.8406 - val_loss: 0.3575 - val_accuracy: 0.8401\n",
      "Epoch 4/20\n",
      "54/54 [==============================] - 2s 41ms/step - loss: 0.3321 - accuracy: 0.8406 - val_loss: 0.3068 - val_accuracy: 0.8401\n",
      "Epoch 5/20\n",
      "54/54 [==============================] - 2s 41ms/step - loss: 0.2849 - accuracy: 0.8406 - val_loss: 0.2631 - val_accuracy: 0.8401\n",
      "Epoch 6/20\n",
      "54/54 [==============================] - 2s 41ms/step - loss: 0.2470 - accuracy: 0.8422 - val_loss: 0.2311 - val_accuracy: 0.8498\n",
      "Epoch 7/20\n",
      "54/54 [==============================] - 3s 48ms/step - loss: 0.2213 - accuracy: 0.8658 - val_loss: 0.2109 - val_accuracy: 0.8819\n",
      "Epoch 8/20\n",
      "54/54 [==============================] - 4s 67ms/step - loss: 0.2056 - accuracy: 0.8851 - val_loss: 0.1988 - val_accuracy: 0.8884\n",
      "Epoch 9/20\n",
      "54/54 [==============================] - 3s 56ms/step - loss: 0.1960 - accuracy: 0.8880 - val_loss: 0.1912 - val_accuracy: 0.8910\n",
      "Epoch 10/20\n",
      "54/54 [==============================] - 3s 47ms/step - loss: 0.1898 - accuracy: 0.8922 - val_loss: 0.1861 - val_accuracy: 0.8956\n",
      "Epoch 11/20\n",
      "54/54 [==============================] - 2s 45ms/step - loss: 0.1856 - accuracy: 0.8967 - val_loss: 0.1825 - val_accuracy: 0.9008\n",
      "Epoch 12/20\n",
      "54/54 [==============================] - 2s 44ms/step - loss: 0.1824 - accuracy: 0.9008 - val_loss: 0.1798 - val_accuracy: 0.9028\n",
      "Epoch 13/20\n",
      "54/54 [==============================] - 2s 45ms/step - loss: 0.1800 - accuracy: 0.9037 - val_loss: 0.1775 - val_accuracy: 0.9061\n",
      "Epoch 14/20\n",
      "54/54 [==============================] - 2s 46ms/step - loss: 0.1780 - accuracy: 0.9052 - val_loss: 0.1757 - val_accuracy: 0.9084\n",
      "Epoch 15/20\n",
      "54/54 [==============================] - 2s 45ms/step - loss: 0.1763 - accuracy: 0.9063 - val_loss: 0.1742 - val_accuracy: 0.9085\n",
      "Epoch 16/20\n",
      "54/54 [==============================] - 2s 42ms/step - loss: 0.1749 - accuracy: 0.9066 - val_loss: 0.1728 - val_accuracy: 0.9088\n",
      "Epoch 17/20\n",
      "54/54 [==============================] - 1s 24ms/step - loss: 0.1736 - accuracy: 0.9068 - val_loss: 0.1716 - val_accuracy: 0.9090\n",
      "Epoch 18/20\n",
      "54/54 [==============================] - 2s 30ms/step - loss: 0.1725 - accuracy: 0.9070 - val_loss: 0.1706 - val_accuracy: 0.9091\n",
      "Epoch 19/20\n",
      "54/54 [==============================] - 1s 20ms/step - loss: 0.1715 - accuracy: 0.9072 - val_loss: 0.1697 - val_accuracy: 0.9093\n",
      "Epoch 20/20\n",
      "54/54 [==============================] - 1s 22ms/step - loss: 0.1707 - accuracy: 0.9074 - val_loss: 0.1689 - val_accuracy: 0.9095\n",
      "Model: \"sequential_23\"\n",
      "_________________________________________________________________\n",
      "Layer (type)                 Output Shape              Param #   \n",
      "=================================================================\n",
      "dense_79 (Dense)             (None, 20)                1860      \n",
      "_________________________________________________________________\n",
      "dense_80 (Dense)             (None, 20)                420       \n",
      "_________________________________________________________________\n",
      "dense_81 (Dense)             (None, 1)                 21        \n",
      "=================================================================\n",
      "Total params: 2,301\n",
      "Trainable params: 2,301\n",
      "Non-trainable params: 0\n",
      "_________________________________________________________________\n"
     ]
    }
   ],
   "source": [
    "# Setup some training parameters\n",
    "batch_size = 10000\n",
    "epochs = 20\n",
    "\n",
    "input_shape = Xtrain.shape\n",
    "\n",
    "# Build the model\n",
    "model1 = build_DNN(input_shape=input_shape,\n",
    "                   number_layers=2,\n",
    "                   number_nodes=20,\n",
    "                   learning_rate=0.1)\n",
    "\n",
    "# Train the model, provide training data and validation data\n",
    "history1 = model1.fit(Xtrain,\n",
    "                      Ytrain,\n",
    "                      batch_size=10000,\n",
    "                      epochs=20,\n",
    "                      verbose=1,\n",
    "                      validation_data=(Xval,Yval))\n",
    "model1.summary()"
   ]
  },
  {
   "cell_type": "code",
   "execution_count": 72,
   "metadata": {
    "scrolled": true
   },
   "outputs": [
    {
     "name": "stdout",
     "output_type": "stream",
     "text": [
      "12/12 [==============================] - 0s 2ms/step - loss: 0.1685 - accuracy: 0.9087\n",
      "Test loss: 0.1685\n",
      "Test accuracy: 0.9087\n"
     ]
    }
   ],
   "source": [
    "# Evaluate the model on the test data\n",
    "score = model1.evaluate(Xtest,Ytest,batch_size=10000)\n",
    "print('Test loss: %.4f' % score[0])\n",
    "print('Test accuracy: %.4f' % score[1])"
   ]
  },
  {
   "cell_type": "code",
   "execution_count": 73,
   "metadata": {
    "scrolled": true
   },
   "outputs": [
    {
     "data": {
      "image/png": "[encoded data removed]",
      "text/plain": [
       "<Figure size 720x288 with 1 Axes>"
      ]
     },
     "metadata": {
      "needs_background": "light"
     },
     "output_type": "display_data"
    },
    {
     "data": {
      "image/png": "[encoded data removed]",
      "text/plain": [
       "<Figure size 720x288 with 1 Axes>"
      ]
     },
     "metadata": {
      "needs_background": "light"
     },
     "output_type": "display_data"
    }
   ],
   "source": [
    "# Plot the history from the training run\n",
    "plot_results(history1)"
   ]
  },
  {
   "cell_type": "code",
   "execution_count": null,
   "metadata": {},
   "outputs": [],
   "source": [
    "# Part 11: More questions\n",
    "\n",
    "Question 5: What happens if you add several Dense layers without specifying the activation function?\n",
    "         #  Without specifying activation function, the neural network will perform linear mappings of input to output\n",
    "         #  Activation functions helps to include some non-linear property\n",
    "\n",
    "Question 6: How are the weights in each dense layer initialized as default? How are the bias weights initialized?\n",
    "         #  Weight are initialized by uniform distribution and bias weights are initialized as zeros : 0\n"
   ]
  },
  {
   "cell_type": "code",
   "execution_count": null,
   "metadata": {},
   "outputs": [],
   "source": [
    "#"
   ]
  },
  {
   "cell_type": "markdown",
   "metadata": {},
   "source": [
    "# Part 12: Balancing the classes\n",
    "\n",
    "This dataset is rather unbalanced, we need to define class weights so that the training pays more attention to the class with fewer samples. We use a function in scikit learn\n",
    "\n",
    "https://scikit-learn.org/stable/modules/generated/sklearn.utils.class_weight.compute_class_weight.html\n",
    "\n",
    "You need to call the function something like this\n",
    "\n",
    "class_weights = class_weight.compute_class_weight(class_weight = , classes = , y = )\n",
    "\n",
    "otherwise it will complain"
   ]
  },
  {
   "cell_type": "code",
   "execution_count": 74,
   "metadata": {},
   "outputs": [
    {
     "data": {
      "text/plain": [
       "{0: 3.13725087684313, 1: 0.5947956837156341}"
      ]
     },
     "execution_count": 74,
     "metadata": {},
     "output_type": "execute_result"
    }
   ],
   "source": [
    "from sklearn.utils import class_weight\n",
    "\n",
    "# Calculate class weights\n",
    "class_weights=class_weight.compute_class_weight('balanced', classes=np.unique(Ytrain), y=Ytrain)\n",
    "\n",
    "# Print the class weights\n",
    "#print(class_weights)\n",
    "\n",
    "# Keras wants the weights in this form, uncomment and change value1 and value2 to your weights, \n",
    "# or get them from the array that is returned from class_weight\n",
    "\n",
    "class_weights = {0:class_weights[0], 1:class_weights[1]}\n",
    "class_weights"
   ]
  },
  {
   "cell_type": "markdown",
   "metadata": {},
   "source": [
    "### 2 layers, 20 nodes, class weights"
   ]
  },
  {
   "cell_type": "code",
   "execution_count": 80,
   "metadata": {
    "scrolled": true
   },
   "outputs": [
    {
     "name": "stdout",
     "output_type": "stream",
     "text": [
      "Epoch 1/20\n",
      "54/54 [==============================] - 2s 34ms/step - loss: 0.6757 - accuracy: 0.6226 - val_loss: 0.6288 - val_accuracy: 0.8882\n",
      "Epoch 2/20\n",
      "54/54 [==============================] - 1s 27ms/step - loss: 0.5761 - accuracy: 0.8871 - val_loss: 0.5093 - val_accuracy: 0.8881\n",
      "Epoch 3/20\n",
      "54/54 [==============================] - 4s 70ms/step - loss: 0.4340 - accuracy: 0.8853 - val_loss: 0.3746 - val_accuracy: 0.8875\n",
      "Epoch 4/20\n",
      "54/54 [==============================] - 2s 38ms/step - loss: 0.3132 - accuracy: 0.8856 - val_loss: 0.3028 - val_accuracy: 0.8882\n",
      "Epoch 5/20\n",
      "54/54 [==============================] - 2s 35ms/step - loss: 0.2547 - accuracy: 0.8867 - val_loss: 0.2719 - val_accuracy: 0.8898\n",
      "Epoch 6/20\n",
      "54/54 [==============================] - 2s 34ms/step - loss: 0.2293 - accuracy: 0.8886 - val_loss: 0.2605 - val_accuracy: 0.8917\n",
      "Epoch 7/20\n",
      "54/54 [==============================] - 2s 32ms/step - loss: 0.2164 - accuracy: 0.8908 - val_loss: 0.2521 - val_accuracy: 0.8940\n",
      "Epoch 8/20\n",
      "54/54 [==============================] - 2s 30ms/step - loss: 0.2086 - accuracy: 0.8938 - val_loss: 0.2460 - val_accuracy: 0.8977\n",
      "Epoch 9/20\n",
      "54/54 [==============================] - 2s 46ms/step - loss: 0.2032 - accuracy: 0.8964 - val_loss: 0.2438 - val_accuracy: 0.8986\n",
      "Epoch 10/20\n",
      "54/54 [==============================] - 3s 47ms/step - loss: 0.1991 - accuracy: 0.8977 - val_loss: 0.2384 - val_accuracy: 0.9005\n",
      "Epoch 11/20\n",
      "54/54 [==============================] - 2s 45ms/step - loss: 0.1958 - accuracy: 0.8992 - val_loss: 0.2367 - val_accuracy: 0.9020\n",
      "Epoch 12/20\n",
      "54/54 [==============================] - 2s 45ms/step - loss: 0.1931 - accuracy: 0.9007 - val_loss: 0.2366 - val_accuracy: 0.9027\n",
      "Epoch 13/20\n",
      "54/54 [==============================] - 1s 25ms/step - loss: 0.1909 - accuracy: 0.9019 - val_loss: 0.2327 - val_accuracy: 0.9043\n",
      "Epoch 14/20\n",
      "54/54 [==============================] - 1s 23ms/step - loss: 0.1890 - accuracy: 0.9030 - val_loss: 0.2291 - val_accuracy: 0.9057\n",
      "Epoch 15/20\n",
      "54/54 [==============================] - 2s 28ms/step - loss: 0.1874 - accuracy: 0.9040 - val_loss: 0.2287 - val_accuracy: 0.9066\n",
      "Epoch 16/20\n",
      "54/54 [==============================] - 1s 22ms/step - loss: 0.1860 - accuracy: 0.9049 - val_loss: 0.2277 - val_accuracy: 0.9073\n",
      "Epoch 17/20\n",
      "54/54 [==============================] - 1s 28ms/step - loss: 0.1848 - accuracy: 0.9057 - val_loss: 0.2275 - val_accuracy: 0.9078\n",
      "Epoch 18/20\n",
      "54/54 [==============================] - 1s 27ms/step - loss: 0.1837 - accuracy: 0.9063 - val_loss: 0.2288 - val_accuracy: 0.9079\n",
      "Epoch 19/20\n",
      "54/54 [==============================] - 1s 26ms/step - loss: 0.1827 - accuracy: 0.9067 - val_loss: 0.2252 - val_accuracy: 0.9087\n",
      "Epoch 20/20\n",
      "54/54 [==============================] - 1s 25ms/step - loss: 0.1819 - accuracy: 0.9070 - val_loss: 0.2240 - val_accuracy: 0.9090\n",
      "Model: \"sequential_25\"\n",
      "_________________________________________________________________\n",
      "Layer (type)                 Output Shape              Param #   \n",
      "=================================================================\n",
      "dense_85 (Dense)             (None, 20)                1860      \n",
      "_________________________________________________________________\n",
      "dense_86 (Dense)             (None, 20)                420       \n",
      "_________________________________________________________________\n",
      "dense_87 (Dense)             (None, 1)                 21        \n",
      "=================================================================\n",
      "Total params: 2,301\n",
      "Trainable params: 2,301\n",
      "Non-trainable params: 0\n",
      "_________________________________________________________________\n"
     ]
    }
   ],
   "source": [
    "# Setup some training parameters\n",
    "batch_size = 10000\n",
    "epochs = 20\n",
    "input_shape = Xtrain.shape\n",
    "\n",
    "# Build and train model\n",
    "model2 = build_DNN(input_shape=input_shape,\n",
    "                   number_layers=2,\n",
    "                   number_nodes=20,\n",
    "                   learning_rate=0.1)\n",
    "\n",
    "history2 = model2.fit(Xtrain, \n",
    "                      Ytrain, \n",
    "                      batch_size=batch_size,\n",
    "                      epochs=epochs,\n",
    "                      verbose=1, \n",
    "                      validation_data=(Xval,Yval),\n",
    "                      class_weight=class_weights)\n",
    "model2.summary()"
   ]
  },
  {
   "cell_type": "code",
   "execution_count": 81,
   "metadata": {},
   "outputs": [
    {
     "name": "stdout",
     "output_type": "stream",
     "text": [
      "12/12 [==============================] - 0s 2ms/step - loss: 0.2255 - accuracy: 0.9084\n",
      "Test loss: 0.2255\n",
      "Test accuracy: 0.9084\n"
     ]
    }
   ],
   "source": [
    "# Evaluate model on test data\n",
    "score = model2.evaluate(Xtest,Ytest,batch_size=10000,verbose=1)\n",
    "\n",
    "print('Test loss: %.4f' % score[0])\n",
    "print('Test accuracy: %.4f' % score[1])"
   ]
  },
  {
   "cell_type": "code",
   "execution_count": 82,
   "metadata": {
    "scrolled": true
   },
   "outputs": [
    {
     "data": {
      "image/png": "[encoded data removed]",
      "text/plain": [
       "<Figure size 720x288 with 1 Axes>"
      ]
     },
     "metadata": {
      "needs_background": "light"
     },
     "output_type": "display_data"
    },
    {
     "data": {
      "image/png": "[encoded data removed]",
      "text/plain": [
       "<Figure size 720x288 with 1 Axes>"
      ]
     },
     "metadata": {
      "needs_background": "light"
     },
     "output_type": "display_data"
    }
   ],
   "source": [
    "plot_results(history2)"
   ]
  },
  {
   "cell_type": "code",
   "execution_count": null,
   "metadata": {},
   "outputs": [],
   "source": [
    "# Part 13: More questions\n",
    "\n",
    "Skip questions 8 and 9 if you run on the CPU (recommended)\n",
    "\n",
    "Question 7: Why do we have to use a batch size? Why can't we simply use all data at once? This is more relevant for even larger datasets.\n",
    "            # We load the data in batches due to memory limitations of the CPU, not all data can be feed in at once\n",
    "\n",
    "Question 8: How busy is the GPU for a batch size of 100? How much GPU memory is used? Hint: run 'nvidia-smi' on the computer a few times during training.\n",
    "\n",
    "Question 9: What is the processing time for one training epoch when the batch size is 100? What is the processing time for one epoch when the batch size is 1,000? What is the processing time for one epoch when the batch size is 10,000? Explain the results. \n",
    "            # Training examples is divided by the batch size, it gives no of iterations for one training epoch, hence larger batch size takes less time which is good for the cpu\n",
    "            # As seen in model summary above processing times for one epoch, \n",
    "            # Processing times for 100 batch size is 11s : model2\n",
    "            # Processing times for 1000 batch size is 3s : model1\n",
    "            # Processing times for 10000 batch size is 2s : model3\n",
    "Question 10: How many times are the weights in the DNN updated in each training epoch if the batch size is 100? How many times are the weights in the DNN updated in each training epoch if the batch size is 1,000? How many times are the weights in the DNN updated in each training epoch if the batch size is 10,000?  \n",
    "             # The number of times the weights are updated in each epoch is number of training samples divided by the batch size\n",
    "             # for 100 batch size = 534895/100 = 5348 times\n",
    "             # for 1000 batch size = 534895/1000 = 534 times\n",
    "             # for 1000 batch size = 534895/10000 = 53 times\n",
    "Question 11: What limits how large the batch size can be?\n",
    "             # The memory capacity of the CPU\n",
    "        \n",
    "Question 12: Generally speaking, how is the learning rate related to the batch size? If the batch size is decreased, how should the learning rate be changed?\n",
    "             # When we want to train the neural network we increase the learning rate, which converges to a local minima at a faster rate.\n",
    "             # Also we can increase the learning rate by increasing the batch size, this however can lead to overfitting,therefore optimal \n",
    "             # accuracy is achieved by reducing the batch size and increasing the learning rate, assuming no optimizimation(adam,sgd) is used\n",
    "\n",
    "Lets use a batch size of 10,000 from now on, and a learning rate of 0.1."
   ]
  },
  {
   "cell_type": "code",
   "execution_count": null,
   "metadata": {},
   "outputs": [],
   "source": [
    "# Part 14: Increasing the complexity\n",
    "\n",
    "Lets try some different configurations of number of layers and number of nodes per layer.\n",
    "\n",
    "Question 13: How many trainable parameters does the network with 4 dense layers with 50 nodes each have, compared to the initial network with 2 layers and 20 nodes per layer? Hint: use model.summary()\n",
    "         #    According to results from model.summary(1), there are 2301 parameters for 2 layers and 20 nodes per layer, while there are 12,351 trainable parameters for 4 layers and 50 nodes network\n",
    "         #    as seen in model.summary(3)   "
   ]
  },
  {
   "cell_type": "markdown",
   "metadata": {},
   "source": [
    "### 4 layers, 20 nodes, class weights"
   ]
  },
  {
   "cell_type": "code",
   "execution_count": 83,
   "metadata": {},
   "outputs": [
    {
     "name": "stdout",
     "output_type": "stream",
     "text": [
      "Epoch 1/20\n",
      "54/54 [==============================] - 7s 119ms/step - loss: 0.6983 - accuracy: 0.2779 - val_loss: 0.6870 - val_accuracy: 0.8401\n",
      "Epoch 2/20\n",
      "54/54 [==============================] - 7s 135ms/step - loss: 0.6932 - accuracy: 0.5277 - val_loss: 0.6944 - val_accuracy: 0.1574\n",
      "Epoch 3/20\n",
      "54/54 [==============================] - 6s 120ms/step - loss: 0.6929 - accuracy: 0.3973 - val_loss: 0.6894 - val_accuracy: 0.8393\n",
      "Epoch 4/20\n",
      "54/54 [==============================] - 4s 79ms/step - loss: 0.6927 - accuracy: 0.5981 - val_loss: 0.6920 - val_accuracy: 0.8601\n",
      "Epoch 5/20\n",
      "54/54 [==============================] - 4s 67ms/step - loss: 0.6925 - accuracy: 0.5569 - val_loss: 0.6929 - val_accuracy: 0.7796\n",
      "Epoch 6/20\n",
      "54/54 [==============================] - 3s 59ms/step - loss: 0.6922 - accuracy: 0.5679 - val_loss: 0.6913 - val_accuracy: 0.8671\n",
      "Epoch 7/20\n",
      "54/54 [==============================] - 4s 66ms/step - loss: 0.6918 - accuracy: 0.5950 - val_loss: 0.6856 - val_accuracy: 0.8400\n",
      "Epoch 8/20\n",
      "54/54 [==============================] - 4s 65ms/step - loss: 0.6915 - accuracy: 0.7355 - val_loss: 0.6916 - val_accuracy: 0.8597\n",
      "Epoch 9/20\n",
      "54/54 [==============================] - 6s 105ms/step - loss: 0.6910 - accuracy: 0.6860 - val_loss: 0.6894 - val_accuracy: 0.8761\n",
      "Epoch 10/20\n",
      "54/54 [==============================] - 4s 72ms/step - loss: 0.6905 - accuracy: 0.6620 - val_loss: 0.6896 - val_accuracy: 0.8810\n",
      "Epoch 11/20\n",
      "54/54 [==============================] - 4s 74ms/step - loss: 0.6898 - accuracy: 0.7901 - val_loss: 0.6871 - val_accuracy: 0.8794\n",
      "Epoch 12/20\n",
      "54/54 [==============================] - 4s 76ms/step - loss: 0.6889 - accuracy: 0.8572 - val_loss: 0.6927 - val_accuracy: 0.5793\n",
      "Epoch 13/20\n",
      "54/54 [==============================] - 6s 111ms/step - loss: 0.6878 - accuracy: 0.7589 - val_loss: 0.6901 - val_accuracy: 0.8398\n",
      "Epoch 14/20\n",
      "54/54 [==============================] - 6s 110ms/step - loss: 0.6864 - accuracy: 0.8595 - val_loss: 0.6865 - val_accuracy: 0.8687\n",
      "Epoch 15/20\n",
      "54/54 [==============================] - 6s 108ms/step - loss: 0.6845 - accuracy: 0.8721 - val_loss: 0.6868 - val_accuracy: 0.8552\n",
      "Epoch 16/20\n",
      "54/54 [==============================] - 6s 107ms/step - loss: 0.6819 - accuracy: 0.8677 - val_loss: 0.6780 - val_accuracy: 0.8869\n",
      "Epoch 17/20\n",
      "54/54 [==============================] - 6s 109ms/step - loss: 0.6783 - accuracy: 0.8746 - val_loss: 0.6755 - val_accuracy: 0.8793\n",
      "Epoch 18/20\n",
      "54/54 [==============================] - 6s 109ms/step - loss: 0.6731 - accuracy: 0.8762 - val_loss: 0.6737 - val_accuracy: 0.8700\n",
      "Epoch 19/20\n",
      "54/54 [==============================] - ETA: 0s - loss: 0.6652 - accuracy: 0.87 - 6s 102ms/step - loss: 0.6652 - accuracy: 0.8748 - val_loss: 0.6574 - val_accuracy: 0.8838\n",
      "Epoch 20/20\n",
      "54/54 [==============================] - 4s 72ms/step - loss: 0.6527 - accuracy: 0.8770 - val_loss: 0.6450 - val_accuracy: 0.8786\n",
      "Model: \"sequential_26\"\n",
      "_________________________________________________________________\n",
      "Layer (type)                 Output Shape              Param #   \n",
      "=================================================================\n",
      "dense_88 (Dense)             (None, 20)                1860      \n",
      "_________________________________________________________________\n",
      "dense_89 (Dense)             (None, 20)                420       \n",
      "_________________________________________________________________\n",
      "dense_90 (Dense)             (None, 20)                420       \n",
      "_________________________________________________________________\n",
      "dense_91 (Dense)             (None, 20)                420       \n",
      "_________________________________________________________________\n",
      "dense_92 (Dense)             (None, 1)                 21        \n",
      "=================================================================\n",
      "Total params: 3,141\n",
      "Trainable params: 3,141\n",
      "Non-trainable params: 0\n",
      "_________________________________________________________________\n"
     ]
    }
   ],
   "source": [
    "# Setup some training parameters\n",
    "batch_size = 10000\n",
    "epochs = 20\n",
    "input_shape = Xtrain.shape\n",
    "\n",
    "# Build and train model\n",
    "model3 = build_DNN(input_shape=input_shape,\n",
    "                   number_layers=4,\n",
    "                   number_nodes=20,\n",
    "                   learning_rate=0.1)\n",
    "\n",
    "\n",
    "history3 = model3.fit(Xtrain,\n",
    "                      Ytrain,\n",
    "                      batch_size=batch_size,\n",
    "                      epochs=epochs,\n",
    "                      verbose=1,\n",
    "                      validation_data=(Xval,Yval),\n",
    "                      class_weight=class_weights) \n",
    "model3.summary()"
   ]
  },
  {
   "cell_type": "code",
   "execution_count": 84,
   "metadata": {},
   "outputs": [
    {
     "name": "stdout",
     "output_type": "stream",
     "text": [
      "3582/3582 [==============================] - 4s 1ms/step - loss: 0.6450 - accuracy: 0.8774\n",
      "Test loss: 0.6450\n",
      "Test accuracy: 0.8774\n"
     ]
    }
   ],
   "source": [
    "# Evaluate model on test data\n",
    "score = model3.evaluate(Xtest,Ytest)\n",
    "\n",
    "print('Test loss: %.4f' % score[0])\n",
    "print('Test accuracy: %.4f' % score[1])"
   ]
  },
  {
   "cell_type": "code",
   "execution_count": 85,
   "metadata": {},
   "outputs": [
    {
     "data": {
      "image/png": "[encoded data removed]",
      "text/plain": [
       "<Figure size 720x288 with 1 Axes>"
      ]
     },
     "metadata": {
      "needs_background": "light"
     },
     "output_type": "display_data"
    },
    {
     "data": {
      "image/png": "[encoded data removed]",
      "text/plain": [
       "<Figure size 720x288 with 1 Axes>"
      ]
     },
     "metadata": {
      "needs_background": "light"
     },
     "output_type": "display_data"
    }
   ],
   "source": [
    "plot_results(history3)"
   ]
  },
  {
   "cell_type": "markdown",
   "metadata": {},
   "source": [
    "### 2 layers, 50 nodes, class weights"
   ]
  },
  {
   "cell_type": "code",
   "execution_count": 86,
   "metadata": {
    "scrolled": true
   },
   "outputs": [
    {
     "name": "stdout",
     "output_type": "stream",
     "text": [
      "Epoch 1/20\n",
      "54/54 [==============================] - 1s 14ms/step - loss: 0.6605 - accuracy: 0.7881 - val_loss: 0.6003 - val_accuracy: 0.8880\n",
      "Epoch 2/20\n",
      "54/54 [==============================] - 1s 10ms/step - loss: 0.5207 - accuracy: 0.8837 - val_loss: 0.4167 - val_accuracy: 0.8853\n",
      "Epoch 3/20\n",
      "54/54 [==============================] - 1s 14ms/step - loss: 0.3384 - accuracy: 0.8825 - val_loss: 0.3029 - val_accuracy: 0.8848\n",
      "Epoch 4/20\n",
      "54/54 [==============================] - 1s 15ms/step - loss: 0.2523 - accuracy: 0.8846 - val_loss: 0.2649 - val_accuracy: 0.8892\n",
      "Epoch 5/20\n",
      "54/54 [==============================] - 1s 12ms/step - loss: 0.2246 - accuracy: 0.8880 - val_loss: 0.2568 - val_accuracy: 0.8911\n",
      "Epoch 6/20\n",
      "54/54 [==============================] - 1s 12ms/step - loss: 0.2129 - accuracy: 0.8903 - val_loss: 0.2510 - val_accuracy: 0.8931\n",
      "Epoch 7/20\n",
      "54/54 [==============================] - 1s 12ms/step - loss: 0.2062 - accuracy: 0.8930 - val_loss: 0.2432 - val_accuracy: 0.8973\n",
      "Epoch 8/20\n",
      "54/54 [==============================] - 1s 10ms/step - loss: 0.2017 - accuracy: 0.8960 - val_loss: 0.2418 - val_accuracy: 0.8986\n",
      "Epoch 9/20\n",
      "54/54 [==============================] - 4s 69ms/step - loss: 0.1982 - accuracy: 0.8973 - val_loss: 0.2372 - val_accuracy: 0.8999\n",
      "Epoch 10/20\n",
      "54/54 [==============================] - 2s 45ms/step - loss: 0.1954 - accuracy: 0.8985 - val_loss: 0.2366 - val_accuracy: 0.9008\n",
      "Epoch 11/20\n",
      "54/54 [==============================] - 2s 43ms/step - loss: 0.1930 - accuracy: 0.8997 - val_loss: 0.2339 - val_accuracy: 0.9019\n",
      "Epoch 12/20\n",
      "54/54 [==============================] - 2s 28ms/step - loss: 0.1910 - accuracy: 0.9006 - val_loss: 0.2332 - val_accuracy: 0.9029\n",
      "Epoch 13/20\n",
      "54/54 [==============================] - 1s 25ms/step - loss: 0.1893 - accuracy: 0.9015 - val_loss: 0.2322 - val_accuracy: 0.9037\n",
      "Epoch 14/20\n",
      "54/54 [==============================] - 1s 21ms/step - loss: 0.1877 - accuracy: 0.9025 - val_loss: 0.2258 - val_accuracy: 0.9054\n",
      "Epoch 15/20\n",
      "54/54 [==============================] - 2s 31ms/step - loss: 0.1864 - accuracy: 0.9034 - val_loss: 0.2295 - val_accuracy: 0.9054\n",
      "Epoch 16/20\n",
      "54/54 [==============================] - 2s 29ms/step - loss: 0.1853 - accuracy: 0.9042 - val_loss: 0.2231 - val_accuracy: 0.9068\n",
      "Epoch 17/20\n",
      "54/54 [==============================] - 1s 23ms/step - loss: 0.1843 - accuracy: 0.9049 - val_loss: 0.2276 - val_accuracy: 0.9067\n",
      "Epoch 18/20\n",
      "54/54 [==============================] - 1s 21ms/step - loss: 0.1834 - accuracy: 0.9056 - val_loss: 0.2240 - val_accuracy: 0.9075\n",
      "Epoch 19/20\n",
      "54/54 [==============================] - 1s 15ms/step - loss: 0.1825 - accuracy: 0.9060 - val_loss: 0.2266 - val_accuracy: 0.9076\n",
      "Epoch 20/20\n",
      "54/54 [==============================] - 1s 15ms/step - loss: 0.1818 - accuracy: 0.9064 - val_loss: 0.2228 - val_accuracy: 0.9084\n",
      "Model: \"sequential_27\"\n",
      "_________________________________________________________________\n",
      "Layer (type)                 Output Shape              Param #   \n",
      "=================================================================\n",
      "dense_93 (Dense)             (None, 50)                4650      \n",
      "_________________________________________________________________\n",
      "dense_94 (Dense)             (None, 50)                2550      \n",
      "_________________________________________________________________\n",
      "dense_95 (Dense)             (None, 1)                 51        \n",
      "=================================================================\n",
      "Total params: 7,251\n",
      "Trainable params: 7,251\n",
      "Non-trainable params: 0\n",
      "_________________________________________________________________\n"
     ]
    }
   ],
   "source": [
    "# Setup some training parameters\n",
    "batch_size = 10000\n",
    "epochs = 20\n",
    "input_shape = Xtrain.shape\n",
    "\n",
    "# Build and train model\n",
    "model4 = build_DNN(input_shape=input_shape,\n",
    "                   number_layers=2,\n",
    "                   number_nodes=50,\n",
    "                   learning_rate=0.1)\n",
    "\n",
    "history4 = model4.fit(Xtrain,\n",
    "                      Ytrain,\n",
    "                      batch_size=batch_size,\n",
    "                      epochs=epochs,\n",
    "                      verbose=1,\n",
    "                      validation_data=(Xval,Yval),\n",
    "                      class_weight=class_weights) \n",
    "model4.summary()"
   ]
  },
  {
   "cell_type": "code",
   "execution_count": 87,
   "metadata": {},
   "outputs": [
    {
     "name": "stdout",
     "output_type": "stream",
     "text": [
      "12/12 [==============================] - 0s 4ms/step - loss: 0.2244 - accuracy: 0.9076\n",
      "Test loss: 0.2244\n",
      "Test accuracy: 0.9076\n"
     ]
    }
   ],
   "source": [
    "# Evaluate model on test data\n",
    "score = model4.evaluate(Xtest,Ytest,batch_size=10000)\n",
    "\n",
    "print('Test loss: %.4f' % score[0])\n",
    "print('Test accuracy: %.4f' % score[1])"
   ]
  },
  {
   "cell_type": "code",
   "execution_count": 88,
   "metadata": {
    "scrolled": true
   },
   "outputs": [
    {
     "data": {
      "image/png": "[encoded data removed]",
      "text/plain": [
       "<Figure size 720x288 with 1 Axes>"
      ]
     },
     "metadata": {
      "needs_background": "light"
     },
     "output_type": "display_data"
    },
    {
     "data": {
      "image/png": "[encoded data removed]",
      "text/plain": [
       "<Figure size 720x288 with 1 Axes>"
      ]
     },
     "metadata": {
      "needs_background": "light"
     },
     "output_type": "display_data"
    }
   ],
   "source": [
    "plot_results(history4)"
   ]
  },
  {
   "cell_type": "markdown",
   "metadata": {},
   "source": [
    "### 4 layers, 50 nodes, class weights"
   ]
  },
  {
   "cell_type": "code",
   "execution_count": 89,
   "metadata": {
    "scrolled": true
   },
   "outputs": [
    {
     "name": "stdout",
     "output_type": "stream",
     "text": [
      "Epoch 1/20\n",
      "54/54 [==============================] - 2s 24ms/step - loss: 0.6932 - accuracy: 0.5089 - val_loss: 0.7001 - val_accuracy: 0.1599\n",
      "Epoch 2/20\n",
      "54/54 [==============================] - 1s 15ms/step - loss: 0.6925 - accuracy: 0.4810 - val_loss: 0.6842 - val_accuracy: 0.8401\n",
      "Epoch 3/20\n",
      "54/54 [==============================] - 3s 55ms/step - loss: 0.6921 - accuracy: 0.6085 - val_loss: 0.6979 - val_accuracy: 0.1599\n",
      "Epoch 4/20\n",
      "54/54 [==============================] - 3s 46ms/step - loss: 0.6916 - accuracy: 0.5745 - val_loss: 0.6955 - val_accuracy: 0.1599\n",
      "Epoch 5/20\n",
      "54/54 [==============================] - 2s 36ms/step - loss: 0.6911 - accuracy: 0.5824 - val_loss: 0.6949 - val_accuracy: 0.1599\n",
      "Epoch 6/20\n",
      "54/54 [==============================] - ETA: 0s - loss: 0.6903 - accuracy: 0.65 - 2s 31ms/step - loss: 0.6904 - accuracy: 0.6598 - val_loss: 0.7017 - val_accuracy: 0.1599\n",
      "Epoch 7/20\n",
      "54/54 [==============================] - 2s 31ms/step - loss: 0.6897 - accuracy: 0.6862 - val_loss: 0.6774 - val_accuracy: 0.8401\n",
      "Epoch 8/20\n",
      "54/54 [==============================] - 2s 34ms/step - loss: 0.6887 - accuracy: 0.7639 - val_loss: 0.6820 - val_accuracy: 0.8476\n",
      "Epoch 9/20\n",
      "54/54 [==============================] - 2s 32ms/step - loss: 0.6875 - accuracy: 0.8036 - val_loss: 0.6875 - val_accuracy: 0.8797\n",
      "Epoch 10/20\n",
      "54/54 [==============================] - 2s 28ms/step - loss: 0.6859 - accuracy: 0.8676 - val_loss: 0.6739 - val_accuracy: 0.8420\n",
      "Epoch 11/20\n",
      "54/54 [==============================] - 2s 31ms/step - loss: 0.6837 - accuracy: 0.8517 - val_loss: 0.6728 - val_accuracy: 0.8588\n",
      "Epoch 12/20\n",
      "54/54 [==============================] - 2s 31ms/step - loss: 0.6807 - accuracy: 0.8841 - val_loss: 0.6797 - val_accuracy: 0.8823\n",
      "Epoch 13/20\n",
      "54/54 [==============================] - 1s 25ms/step - loss: 0.6762 - accuracy: 0.8814 - val_loss: 0.6622 - val_accuracy: 0.8916\n",
      "Epoch 14/20\n",
      "54/54 [==============================] - 1s 26ms/step - loss: 0.6692 - accuracy: 0.8850 - val_loss: 0.6622 - val_accuracy: 0.8892\n",
      "Epoch 15/20\n",
      "54/54 [==============================] - 1s 25ms/step - loss: 0.6573 - accuracy: 0.8844 - val_loss: 0.6392 - val_accuracy: 0.8974\n",
      "Epoch 16/20\n",
      "54/54 [==============================] - 1s 15ms/step - loss: 0.6355 - accuracy: 0.8847 - val_loss: 0.6158 - val_accuracy: 0.8868\n",
      "Epoch 17/20\n",
      "54/54 [==============================] - 2s 40ms/step - loss: 0.5920 - accuracy: 0.8836 - val_loss: 0.5511 - val_accuracy: 0.8873\n",
      "Epoch 18/20\n",
      "54/54 [==============================] - 4s 79ms/step - loss: 0.5059 - accuracy: 0.8827 - val_loss: 0.4476 - val_accuracy: 0.8847\n",
      "Epoch 19/20\n",
      "54/54 [==============================] - 2s 40ms/step - loss: 0.3777 - accuracy: 0.8826 - val_loss: 0.3367 - val_accuracy: 0.8850\n",
      "Epoch 20/20\n",
      "54/54 [==============================] - 2s 46ms/step - loss: 0.2782 - accuracy: 0.8845 - val_loss: 0.2778 - val_accuracy: 0.8887\n",
      "Model: \"sequential_28\"\n",
      "_________________________________________________________________\n",
      "Layer (type)                 Output Shape              Param #   \n",
      "=================================================================\n",
      "dense_96 (Dense)             (None, 50)                4650      \n",
      "_________________________________________________________________\n",
      "dense_97 (Dense)             (None, 50)                2550      \n",
      "_________________________________________________________________\n",
      "dense_98 (Dense)             (None, 50)                2550      \n",
      "_________________________________________________________________\n",
      "dense_99 (Dense)             (None, 50)                2550      \n",
      "_________________________________________________________________\n",
      "dense_100 (Dense)            (None, 1)                 51        \n",
      "=================================================================\n",
      "Total params: 12,351\n",
      "Trainable params: 12,351\n",
      "Non-trainable params: 0\n",
      "_________________________________________________________________\n"
     ]
    }
   ],
   "source": [
    "# Setup some training parameters\n",
    "batch_size = 10000\n",
    "epochs = 20\n",
    "input_shape = Xtrain.shape\n",
    "\n",
    "# Build and train model\n",
    "model5 = build_DNN(input_shape=input_shape,\n",
    "                   number_layers=4,\n",
    "                   number_nodes=50,\n",
    "                   learning_rate=0.1)\n",
    "    \n",
    "\n",
    "history5 = model5.fit(Xtrain,\n",
    "                      Ytrain,\n",
    "                      batch_size=batch_size,\n",
    "                      epochs=epochs,\n",
    "                      verbose=1,\n",
    "                      validation_data=(Xval,Yval),\n",
    "                      class_weight=class_weights)  \n",
    "model5.summary()"
   ]
  },
  {
   "cell_type": "code",
   "execution_count": 90,
   "metadata": {},
   "outputs": [
    {
     "name": "stdout",
     "output_type": "stream",
     "text": [
      "12/12 [==============================] - 0s 6ms/step - loss: 0.2787 - accuracy: 0.8876\n",
      "Test loss: 0.2787\n",
      "Test accuracy: 0.8876\n"
     ]
    }
   ],
   "source": [
    "# Evaluate model on test data\n",
    "score = model5.evaluate(Xtest,Ytest,batch_size=10000)\n",
    "\n",
    "print('Test loss: %.4f' % score[0])\n",
    "print('Test accuracy: %.4f' % score[1])"
   ]
  },
  {
   "cell_type": "code",
   "execution_count": 91,
   "metadata": {},
   "outputs": [
    {
     "data": {
      "image/png": "[encoded data removed]",
      "text/plain": [
       "<Figure size 720x288 with 1 Axes>"
      ]
     },
     "metadata": {
      "needs_background": "light"
     },
     "output_type": "display_data"
    },
    {
     "data": {
      "image/png": "[encoded data removed]",
      "text/plain": [
       "<Figure size 720x288 with 1 Axes>"
      ]
     },
     "metadata": {
      "needs_background": "light"
     },
     "output_type": "display_data"
    }
   ],
   "source": [
    "plot_results(history5)"
   ]
  },
  {
   "cell_type": "markdown",
   "metadata": {},
   "source": [
    "# Part 15: Batch normalization\n",
    "\n",
    "Now add batch normalization after each dense layer in `build_DNN`. Remember to import BatchNormalization from keras.layers. \n",
    "\n",
    "See https://keras.io/layers/normalization/ for information about how to call the function.\n",
    "\n",
    "Question 14: Why is batch normalization important when training deep networks?"
   ]
  },
  {
   "cell_type": "code",
   "execution_count": null,
   "metadata": {},
   "outputs": [],
   "source": [
    "# Batch normalization standardize or normalize the inputs to every layer, it helps to reduce the number of epochs\n",
    "# thus improving the learning rate and accuracy"
   ]
  },
  {
   "cell_type": "markdown",
   "metadata": {},
   "source": [
    "### 2 layers, 20 nodes, class weights, batch normalization"
   ]
  },
  {
   "cell_type": "code",
   "execution_count": 92,
   "metadata": {
    "scrolled": true
   },
   "outputs": [
    {
     "name": "stdout",
     "output_type": "stream",
     "text": [
      "Epoch 1/20\n",
      "54/54 [==============================] - 3s 39ms/step - loss: 0.2847 - accuracy: 0.8922 - val_loss: 0.4185 - val_accuracy: 0.8401\n",
      "Epoch 2/20\n",
      "54/54 [==============================] - 2s 30ms/step - loss: 0.2097 - accuracy: 0.9053 - val_loss: 0.3978 - val_accuracy: 0.8401\n",
      "Epoch 3/20\n",
      "54/54 [==============================] - 2s 29ms/step - loss: 0.1927 - accuracy: 0.9081 - val_loss: 0.3780 - val_accuracy: 0.8400\n",
      "Epoch 4/20\n",
      "54/54 [==============================] - 4s 71ms/step - loss: 0.1846 - accuracy: 0.9098 - val_loss: 0.3522 - val_accuracy: 0.8400\n",
      "Epoch 5/20\n",
      "54/54 [==============================] - 2s 40ms/step - loss: 0.1798 - accuracy: 0.9110 - val_loss: 0.2972 - val_accuracy: 0.8402\n",
      "Epoch 6/20\n",
      "54/54 [==============================] - 2s 37ms/step - loss: 0.1764 - accuracy: 0.9123 - val_loss: 0.2468 - val_accuracy: 0.8470\n",
      "Epoch 7/20\n",
      "54/54 [==============================] - 2s 41ms/step - loss: 0.1738 - accuracy: 0.9134 - val_loss: 0.1990 - val_accuracy: 0.8661\n",
      "Epoch 8/20\n",
      "54/54 [==============================] - 2s 40ms/step - loss: 0.1722 - accuracy: 0.9141 - val_loss: 0.1725 - val_accuracy: 0.9089\n",
      "Epoch 9/20\n",
      "54/54 [==============================] - 2s 33ms/step - loss: 0.1704 - accuracy: 0.9148 - val_loss: 0.1663 - val_accuracy: 0.9161\n",
      "Epoch 10/20\n",
      "54/54 [==============================] - 3s 47ms/step - loss: 0.1692 - accuracy: 0.9153 - val_loss: 0.1761 - val_accuracy: 0.9161\n",
      "Epoch 11/20\n",
      "54/54 [==============================] - 2s 37ms/step - loss: 0.1680 - accuracy: 0.9158 - val_loss: 0.1896 - val_accuracy: 0.9159\n",
      "Epoch 12/20\n",
      "54/54 [==============================] - 2s 34ms/step - loss: 0.1672 - accuracy: 0.9159 - val_loss: 0.1796 - val_accuracy: 0.9169\n",
      "Epoch 13/20\n",
      "54/54 [==============================] - 2s 33ms/step - loss: 0.1664 - accuracy: 0.9162 - val_loss: 0.1694 - val_accuracy: 0.9185\n",
      "Epoch 14/20\n",
      "54/54 [==============================] - 2s 28ms/step - loss: 0.1658 - accuracy: 0.9163 - val_loss: 0.1978 - val_accuracy: 0.9180\n",
      "Epoch 15/20\n",
      "54/54 [==============================] - 2s 31ms/step - loss: 0.1650 - accuracy: 0.9164 - val_loss: 0.2207 - val_accuracy: 0.9180\n",
      "Epoch 16/20\n",
      "54/54 [==============================] - 1s 23ms/step - loss: 0.1649 - accuracy: 0.9165 - val_loss: 0.1799 - val_accuracy: 0.9188\n",
      "Epoch 17/20\n",
      "54/54 [==============================] - 1s 27ms/step - loss: 0.1640 - accuracy: 0.9167 - val_loss: 0.1941 - val_accuracy: 0.9184\n",
      "Epoch 18/20\n",
      "54/54 [==============================] - 1s 26ms/step - loss: 0.1633 - accuracy: 0.9168 - val_loss: 0.1947 - val_accuracy: 0.9185\n",
      "Epoch 19/20\n",
      "54/54 [==============================] - 1s 27ms/step - loss: 0.1628 - accuracy: 0.9169 - val_loss: 0.1799 - val_accuracy: 0.9183\n",
      "Epoch 20/20\n",
      "54/54 [==============================] - 4s 73ms/step - loss: 0.1629 - accuracy: 0.9169 - val_loss: 0.1912 - val_accuracy: 0.9191\n",
      "Model: \"sequential_29\"\n",
      "_________________________________________________________________\n",
      "Layer (type)                 Output Shape              Param #   \n",
      "=================================================================\n",
      "dense_101 (Dense)            (None, 20)                1860      \n",
      "_________________________________________________________________\n",
      "batch_normalization_6 (Batch (None, 20)                80        \n",
      "_________________________________________________________________\n",
      "dense_102 (Dense)            (None, 20)                420       \n",
      "_________________________________________________________________\n",
      "batch_normalization_7 (Batch (None, 20)                80        \n",
      "_________________________________________________________________\n",
      "dense_103 (Dense)            (None, 1)                 21        \n",
      "=================================================================\n",
      "Total params: 2,461\n",
      "Trainable params: 2,381\n",
      "Non-trainable params: 80\n",
      "_________________________________________________________________\n"
     ]
    }
   ],
   "source": [
    "from tensorflow.keras.layers import BatchNormalization\n",
    "# Setup some training parameters\n",
    "batch_size = 10000\n",
    "epochs = 20\n",
    "input_shape = Xtrain.shape\n",
    "\n",
    "# Build and train model\n",
    "model6 = build_DNN(input_shape=input_shape,\n",
    "                   number_layers=2,\n",
    "                   number_nodes=20,\n",
    "                   learning_rate=0.1,\n",
    "                   use_bn=True)\n",
    " \n",
    "\n",
    "history6 = model6.fit(Xtrain,\n",
    "                      Ytrain,\n",
    "                      batch_size=batch_size,\n",
    "                      epochs=epochs,\n",
    "                      verbose=1,\n",
    "                      validation_data=(Xval,Yval),\n",
    "                      class_weight=class_weights) \n",
    "model6.summary()"
   ]
  },
  {
   "cell_type": "code",
   "execution_count": 93,
   "metadata": {},
   "outputs": [
    {
     "name": "stdout",
     "output_type": "stream",
     "text": [
      "12/12 [==============================] - 0s 5ms/step - loss: 0.1927 - accuracy: 0.9183\n",
      "Test loss: 0.1927\n",
      "Test accuracy: 0.9183\n"
     ]
    }
   ],
   "source": [
    "# Evaluate model on test data\n",
    "score = model6.evaluate(Xtest,Ytest,batch_size=10000)\n",
    "\n",
    "print('Test loss: %.4f' % score[0])\n",
    "print('Test accuracy: %.4f' % score[1])"
   ]
  },
  {
   "cell_type": "code",
   "execution_count": 94,
   "metadata": {},
   "outputs": [
    {
     "data": {
      "image/png": "[encoded data removed]",
      "text/plain": [
       "<Figure size 720x288 with 1 Axes>"
      ]
     },
     "metadata": {
      "needs_background": "light"
     },
     "output_type": "display_data"
    },
    {
     "data": {
      "image/png": "[encoded data removed]",
      "text/plain": [
       "<Figure size 720x288 with 1 Axes>"
      ]
     },
     "metadata": {
      "needs_background": "light"
     },
     "output_type": "display_data"
    }
   ],
   "source": [
    "plot_results(history6)"
   ]
  },
  {
   "cell_type": "markdown",
   "metadata": {},
   "source": [
    "# Part 16: Activation function\n",
    "\n",
    "Try changing the activation function in each layer from sigmoid to ReLU, write down the test accuracy.\n",
    "\n",
    "Note: the last layer should still have a sigmoid activation function.\n",
    "\n",
    "https://keras.io/api/layers/activations/"
   ]
  },
  {
   "cell_type": "markdown",
   "metadata": {},
   "source": [
    "### 2 layers, 20 nodes, class weights, ReLU, no batch normalization"
   ]
  },
  {
   "cell_type": "code",
   "execution_count": 95,
   "metadata": {
    "scrolled": true
   },
   "outputs": [
    {
     "name": "stdout",
     "output_type": "stream",
     "text": [
      "Epoch 1/20\n",
      "54/54 [==============================] - 3s 41ms/step - loss: 0.3759 - accuracy: 0.8087 - val_loss: 0.2489 - val_accuracy: 0.8974\n",
      "Epoch 2/20\n",
      "54/54 [==============================] - 2s 28ms/step - loss: 0.2019 - accuracy: 0.8977 - val_loss: 0.2677 - val_accuracy: 0.8988\n",
      "Epoch 3/20\n",
      "54/54 [==============================] - 1s 27ms/step - loss: 0.1922 - accuracy: 0.9020 - val_loss: 0.2218 - val_accuracy: 0.9074\n",
      "Epoch 4/20\n",
      "54/54 [==============================] - 2s 33ms/step - loss: 0.1876 - accuracy: 0.9045 - val_loss: 0.2055 - val_accuracy: 0.9093\n",
      "Epoch 5/20\n",
      "54/54 [==============================] - 2s 32ms/step - loss: 0.1860 - accuracy: 0.9055 - val_loss: 0.2589 - val_accuracy: 0.9060\n",
      "Epoch 6/20\n",
      "54/54 [==============================] - 3s 65ms/step - loss: 0.1823 - accuracy: 0.9068 - val_loss: 0.2134 - val_accuracy: 0.9097\n",
      "Epoch 7/20\n",
      "54/54 [==============================] - 3s 47ms/step - loss: 0.1807 - accuracy: 0.9074 - val_loss: 0.2526 - val_accuracy: 0.9079\n",
      "Epoch 8/20\n",
      "54/54 [==============================] - 3s 47ms/step - loss: 0.1798 - accuracy: 0.9078 - val_loss: 0.2069 - val_accuracy: 0.9104\n",
      "Epoch 9/20\n",
      "54/54 [==============================] - 2s 33ms/step - loss: 0.1785 - accuracy: 0.9082 - val_loss: 0.2206 - val_accuracy: 0.9103\n",
      "Epoch 10/20\n",
      "54/54 [==============================] - 2s 32ms/step - loss: 0.1775 - accuracy: 0.9085 - val_loss: 0.2017 - val_accuracy: 0.9109\n",
      "Epoch 11/20\n",
      "54/54 [==============================] - 2s 33ms/step - loss: 0.1768 - accuracy: 0.9086 - val_loss: 0.2328 - val_accuracy: 0.9099\n",
      "Epoch 12/20\n",
      "54/54 [==============================] - 2s 33ms/step - loss: 0.1764 - accuracy: 0.9087 - val_loss: 0.2288 - val_accuracy: 0.9103\n",
      "Epoch 13/20\n",
      "54/54 [==============================] - 2s 37ms/step - loss: 0.1758 - accuracy: 0.9088 - val_loss: 0.2080 - val_accuracy: 0.9108\n",
      "Epoch 14/20\n",
      "54/54 [==============================] - 1s 27ms/step - loss: 0.1754 - accuracy: 0.9089 - val_loss: 0.2035 - val_accuracy: 0.9105\n",
      "Epoch 15/20\n",
      "54/54 [==============================] - 2s 29ms/step - loss: 0.1746 - accuracy: 0.9090 - val_loss: 0.2216 - val_accuracy: 0.9107\n",
      "Epoch 16/20\n",
      "54/54 [==============================] - 2s 29ms/step - loss: 0.1743 - accuracy: 0.9091 - val_loss: 0.2169 - val_accuracy: 0.9110\n",
      "Epoch 17/20\n",
      "54/54 [==============================] - 1s 25ms/step - loss: 0.1736 - accuracy: 0.9091 - val_loss: 0.2221 - val_accuracy: 0.9108\n",
      "Epoch 18/20\n",
      "54/54 [==============================] - 1s 24ms/step - loss: 0.1741 - accuracy: 0.9091 - val_loss: 0.2105 - val_accuracy: 0.9113\n",
      "Epoch 19/20\n",
      "54/54 [==============================] - 1s 23ms/step - loss: 0.1731 - accuracy: 0.9092 - val_loss: 0.2345 - val_accuracy: 0.9105\n",
      "Epoch 20/20\n",
      "54/54 [==============================] - 1s 22ms/step - loss: 0.1729 - accuracy: 0.9093 - val_loss: 0.2563 - val_accuracy: 0.9100\n",
      "Model: \"sequential_30\"\n",
      "_________________________________________________________________\n",
      "Layer (type)                 Output Shape              Param #   \n",
      "=================================================================\n",
      "dense_104 (Dense)            (None, 20)                1860      \n",
      "_________________________________________________________________\n",
      "dense_105 (Dense)            (None, 20)                420       \n",
      "_________________________________________________________________\n",
      "dense_106 (Dense)            (None, 1)                 21        \n",
      "=================================================================\n",
      "Total params: 2,301\n",
      "Trainable params: 2,301\n",
      "Non-trainable params: 0\n",
      "_________________________________________________________________\n"
     ]
    }
   ],
   "source": [
    "# Setup some training parameters\n",
    "batch_size = 10000\n",
    "epochs = 20\n",
    "input_shape = Xtrain.shape\n",
    "\n",
    "# Build and train model\n",
    "model7 = build_DNN(input_shape=input_shape,\n",
    "                   number_layers=2,\n",
    "                   number_nodes=20,\n",
    "                   act_fun='relu',\n",
    "                   learning_rate=0.1,\n",
    "                   use_bn=False)\n",
    "\n",
    "\n",
    "history7 = model7.fit(Xtrain,\n",
    "                      Ytrain,\n",
    "                      batch_size=batch_size,\n",
    "                      epochs=epochs,\n",
    "                      verbose=1,\n",
    "                      validation_data=(Xval,Yval),\n",
    "                      class_weight=class_weights) \n",
    "model7.summary()"
   ]
  },
  {
   "cell_type": "code",
   "execution_count": 96,
   "metadata": {},
   "outputs": [
    {
     "name": "stdout",
     "output_type": "stream",
     "text": [
      "12/12 [==============================] - 0s 2ms/step - loss: 0.2576 - accuracy: 0.9093\n",
      "Test loss: 0.2576\n",
      "Test accuracy: 0.9093\n"
     ]
    }
   ],
   "source": [
    "# Evaluate model on test data\n",
    "score = model7.evaluate(Xtest,Ytest,batch_size=10000)\n",
    "\n",
    "print('Test loss: %.4f' % score[0])\n",
    "print('Test accuracy: %.4f' % score[1])"
   ]
  },
  {
   "cell_type": "code",
   "execution_count": 97,
   "metadata": {},
   "outputs": [
    {
     "data": {
      "image/png": "[encoded data removed]",
      "text/plain": [
       "<Figure size 720x288 with 1 Axes>"
      ]
     },
     "metadata": {
      "needs_background": "light"
     },
     "output_type": "display_data"
    },
    {
     "data": {
      "image/png": "[encoded data removed]",
      "text/plain": [
       "<Figure size 720x288 with 1 Axes>"
      ]
     },
     "metadata": {
      "needs_background": "light"
     },
     "output_type": "display_data"
    }
   ],
   "source": [
    "plot_results(history7)"
   ]
  },
  {
   "cell_type": "markdown",
   "metadata": {},
   "source": [
    "# Part 17: Optimizer\n",
    "\n",
    "Try changing the optimizer from SGD to Adam (with learning rate 0.1 as before). Remember to import the Adam optimizer from keras.optimizers. \n",
    "\n",
    "https://keras.io/optimizers/\n"
   ]
  },
  {
   "cell_type": "markdown",
   "metadata": {},
   "source": [
    "### 2 layers, 20 nodes, class weights, Adam optimizer, no batch normalization, sigmoid activations"
   ]
  },
  {
   "cell_type": "code",
   "execution_count": 98,
   "metadata": {
    "scrolled": true
   },
   "outputs": [
    {
     "name": "stdout",
     "output_type": "stream",
     "text": [
      "Epoch 1/20\n",
      "54/54 [==============================] - 2s 26ms/step - loss: 0.3502 - accuracy: 0.8210 - val_loss: 0.2516 - val_accuracy: 0.9083\n",
      "Epoch 2/20\n",
      "54/54 [==============================] - 2s 42ms/step - loss: 0.1897 - accuracy: 0.9030 - val_loss: 0.2258 - val_accuracy: 0.9099\n",
      "Epoch 3/20\n",
      "54/54 [==============================] - 4s 77ms/step - loss: 0.1962 - accuracy: 0.8986 - val_loss: 0.2235 - val_accuracy: 0.9106\n",
      "Epoch 4/20\n",
      "54/54 [==============================] - 3s 48ms/step - loss: 0.1802 - accuracy: 0.9083 - val_loss: 0.2268 - val_accuracy: 0.9114\n",
      "Epoch 5/20\n",
      "54/54 [==============================] - 3s 49ms/step - loss: 0.1828 - accuracy: 0.9068 - val_loss: 0.2262 - val_accuracy: 0.9092\n",
      "Epoch 6/20\n",
      "54/54 [==============================] - 3s 48ms/step - loss: 0.1797 - accuracy: 0.9086 - val_loss: 0.2237 - val_accuracy: 0.9112\n",
      "Epoch 7/20\n",
      "54/54 [==============================] - 3s 47ms/step - loss: 0.1800 - accuracy: 0.9096 - val_loss: 0.2208 - val_accuracy: 0.9113\n",
      "Epoch 8/20\n",
      "54/54 [==============================] - 2s 32ms/step - loss: 0.1825 - accuracy: 0.9067 - val_loss: 0.2452 - val_accuracy: 0.8972\n",
      "Epoch 9/20\n",
      "54/54 [==============================] - 2s 46ms/step - loss: 0.1895 - accuracy: 0.9020 - val_loss: 0.2235 - val_accuracy: 0.9101\n",
      "Epoch 10/20\n",
      "54/54 [==============================] - 2s 31ms/step - loss: 0.1784 - accuracy: 0.9089 - val_loss: 0.2332 - val_accuracy: 0.9104\n",
      "Epoch 11/20\n",
      "54/54 [==============================] - 2s 28ms/step - loss: 0.1776 - accuracy: 0.9092 - val_loss: 0.2212 - val_accuracy: 0.9110\n",
      "Epoch 12/20\n",
      "54/54 [==============================] - 2s 30ms/step - loss: 0.1766 - accuracy: 0.9098 - val_loss: 0.2170 - val_accuracy: 0.9128\n",
      "Epoch 13/20\n",
      "54/54 [==============================] - 1s 24ms/step - loss: 0.1776 - accuracy: 0.9092 - val_loss: 0.2221 - val_accuracy: 0.9106\n",
      "Epoch 14/20\n",
      "54/54 [==============================] - 1s 27ms/step - loss: 0.1783 - accuracy: 0.9088 - val_loss: 0.2236 - val_accuracy: 0.9079\n",
      "Epoch 15/20\n",
      "54/54 [==============================] - 1s 24ms/step - loss: 0.1777 - accuracy: 0.9087 - val_loss: 0.2092 - val_accuracy: 0.9123\n",
      "Epoch 16/20\n",
      "54/54 [==============================] - 2s 28ms/step - loss: 0.1782 - accuracy: 0.9083 - val_loss: 0.2259 - val_accuracy: 0.9105\n",
      "Epoch 17/20\n",
      "54/54 [==============================] - 1s 27ms/step - loss: 0.1758 - accuracy: 0.9093 - val_loss: 0.2092 - val_accuracy: 0.9110\n",
      "Epoch 18/20\n",
      "54/54 [==============================] - 2s 30ms/step - loss: 0.1764 - accuracy: 0.9090 - val_loss: 0.2221 - val_accuracy: 0.9105\n",
      "Epoch 19/20\n",
      "54/54 [==============================] - 2s 37ms/step - loss: 0.1753 - accuracy: 0.9093 - val_loss: 0.2251 - val_accuracy: 0.9103\n",
      "Epoch 20/20\n",
      "54/54 [==============================] - 2s 29ms/step - loss: 0.1767 - accuracy: 0.9089 - val_loss: 0.2067 - val_accuracy: 0.9129\n",
      "Model: \"sequential_31\"\n",
      "_________________________________________________________________\n",
      "Layer (type)                 Output Shape              Param #   \n",
      "=================================================================\n",
      "dense_107 (Dense)            (None, 20)                1860      \n",
      "_________________________________________________________________\n",
      "dense_108 (Dense)            (None, 20)                420       \n",
      "_________________________________________________________________\n",
      "dense_109 (Dense)            (None, 1)                 21        \n",
      "=================================================================\n",
      "Total params: 2,301\n",
      "Trainable params: 2,301\n",
      "Non-trainable params: 0\n",
      "_________________________________________________________________\n"
     ]
    }
   ],
   "source": [
    "\n",
    "from tensorflow.keras.optimizers import Adam\n",
    "# Setup some training parameters\n",
    "batch_size = 10000\n",
    "epochs = 20\n",
    "input_shape = Xtrain.shape\n",
    "\n",
    "# Build and train model\n",
    "model8 = build_DNN(input_shape=input_shape,\n",
    "                   number_layers=2,\n",
    "                   number_nodes=20,\n",
    "                   act_fun='sigmoid',\n",
    "                   optimizer='adam',\n",
    "                   learning_rate=0.1,\n",
    "                   use_bn=False)\n",
    "\n",
    "\n",
    "history8 = model8.fit(Xtrain,\n",
    "                      Ytrain,\n",
    "                      batch_size=batch_size,\n",
    "                      epochs=epochs,\n",
    "                      verbose=1,\n",
    "                      validation_data=(Xval,Yval),\n",
    "                      class_weight=class_weights) \n",
    "model8.summary()"
   ]
  },
  {
   "cell_type": "code",
   "execution_count": 99,
   "metadata": {},
   "outputs": [
    {
     "name": "stdout",
     "output_type": "stream",
     "text": [
      "12/12 [==============================] - 0s 3ms/step - loss: 0.2067 - accuracy: 0.9125\n",
      "Test loss: 0.2067\n",
      "Test accuracy: 0.9125\n"
     ]
    }
   ],
   "source": [
    "# Evaluate model on test data\n",
    "score = model8.evaluate(Xtest,Ytest,batch_size=10000)\n",
    "\n",
    "print('Test loss: %.4f' % score[0])\n",
    "print('Test accuracy: %.4f' % score[1])"
   ]
  },
  {
   "cell_type": "code",
   "execution_count": 100,
   "metadata": {},
   "outputs": [
    {
     "data": {
      "image/png": "[encoded data removed]",
      "text/plain": [
       "<Figure size 720x288 with 1 Axes>"
      ]
     },
     "metadata": {
      "needs_background": "light"
     },
     "output_type": "display_data"
    },
    {
     "data": {
      "image/png": "[encoded data removed]",
      "text/plain": [
       "<Figure size 720x288 with 1 Axes>"
      ]
     },
     "metadata": {
      "needs_background": "light"
     },
     "output_type": "display_data"
    }
   ],
   "source": [
    "plot_results(history8)"
   ]
  },
  {
   "cell_type": "markdown",
   "metadata": {},
   "source": [
    "# Part 18: Dropout regularization\n",
    "\n",
    "Dropout is a type of regularization that can improve accuracy for validation and test data. \n",
    "\n",
    "Add a Dropout layer after each Dense layer (but not after the final dense layer) in `build_DNN`, with a dropout probability of 50%. Remember to first import the Dropout layer from keras.layers\n",
    "\n",
    "See https://keras.io/api/layers/regularization_layers/dropout/ for how the Dropout layer works.\n",
    "\n",
    "---\n",
    "\n",
    "Question 15: How does the validation accuracy change when adding dropout?\n",
    "\n",
    "Question 16: How does the test accuracy change when adding dropout?"
   ]
  },
  {
   "cell_type": "code",
   "execution_count": null,
   "metadata": {},
   "outputs": [],
   "source": [
    "# Validation accuracy is reduced hence the model(i.emodel.9) is not being able to fit properly, because high dropout increase the variance in some layers\n",
    "# Test accuracy is reduced because more uncertainty has been introduced in to the network"
   ]
  },
  {
   "cell_type": "markdown",
   "metadata": {},
   "source": [
    "### 2 layers, 20 nodes, class weights, dropout, SGD optimizer, no batch normalization, sigmoid activations"
   ]
  },
  {
   "cell_type": "code",
   "execution_count": 101,
   "metadata": {
    "scrolled": true
   },
   "outputs": [
    {
     "name": "stdout",
     "output_type": "stream",
     "text": [
      "Epoch 1/20\n",
      "54/54 [==============================] - 2s 32ms/step - loss: 0.7289 - accuracy: 0.5339 - val_loss: 0.6481 - val_accuracy: 0.8922\n",
      "Epoch 2/20\n",
      "54/54 [==============================] - ETA: 0s - loss: 0.6610 - accuracy: 0.60 - 2s 36ms/step - loss: 0.6594 - accuracy: 0.6048 - val_loss: 0.5896 - val_accuracy: 0.8828\n",
      "Epoch 3/20\n",
      "54/54 [==============================] - 2s 29ms/step - loss: 0.5941 - accuracy: 0.6853 - val_loss: 0.4992 - val_accuracy: 0.8826\n",
      "Epoch 4/20\n",
      "54/54 [==============================] - 2s 33ms/step - loss: 0.5208 - accuracy: 0.7545 - val_loss: 0.4089 - val_accuracy: 0.8838\n",
      "Epoch 5/20\n",
      "54/54 [==============================] - 2s 31ms/step - loss: 0.4554 - accuracy: 0.7983 - val_loss: 0.3431 - val_accuracy: 0.8856\n",
      "Epoch 6/20\n",
      "54/54 [==============================] - 2s 32ms/step - loss: 0.4074 - accuracy: 0.8249 - val_loss: 0.3053 - val_accuracy: 0.8878\n",
      "Epoch 7/20\n",
      "54/54 [==============================] - 3s 57ms/step - loss: 0.3742 - accuracy: 0.8415 - val_loss: 0.2854 - val_accuracy: 0.8902\n",
      "Epoch 8/20\n",
      "54/54 [==============================] - 3s 52ms/step - loss: 0.3530 - accuracy: 0.8518 - val_loss: 0.2768 - val_accuracy: 0.8924\n",
      "Epoch 9/20\n",
      "54/54 [==============================] - 3s 53ms/step - loss: 0.3349 - accuracy: 0.8589 - val_loss: 0.2696 - val_accuracy: 0.8948\n",
      "Epoch 10/20\n",
      "54/54 [==============================] - 2s 45ms/step - loss: 0.3225 - accuracy: 0.8648 - val_loss: 0.2674 - val_accuracy: 0.8958\n",
      "Epoch 11/20\n",
      "54/54 [==============================] - 2s 41ms/step - loss: 0.3144 - accuracy: 0.8682 - val_loss: 0.2661 - val_accuracy: 0.8963\n",
      "Epoch 12/20\n",
      "54/54 [==============================] - 2s 34ms/step - loss: 0.3062 - accuracy: 0.8713 - val_loss: 0.2632 - val_accuracy: 0.8967\n",
      "Epoch 13/20\n",
      "54/54 [==============================] - 2s 37ms/step - loss: 0.2990 - accuracy: 0.8740 - val_loss: 0.2617 - val_accuracy: 0.8969\n",
      "Epoch 14/20\n",
      "54/54 [==============================] - 2s 38ms/step - loss: 0.2935 - accuracy: 0.8759 - val_loss: 0.2608 - val_accuracy: 0.8971\n",
      "Epoch 15/20\n",
      "54/54 [==============================] - 2s 40ms/step - loss: 0.2882 - accuracy: 0.8778 - val_loss: 0.2584 - val_accuracy: 0.8974\n",
      "Epoch 16/20\n",
      "54/54 [==============================] - 2s 36ms/step - loss: 0.2836 - accuracy: 0.8793 - val_loss: 0.2560 - val_accuracy: 0.8976\n",
      "Epoch 17/20\n",
      "54/54 [==============================] - 1s 27ms/step - loss: 0.2797 - accuracy: 0.8802 - val_loss: 0.2567 - val_accuracy: 0.8977\n",
      "Epoch 18/20\n",
      "54/54 [==============================] - 2s 28ms/step - loss: 0.2762 - accuracy: 0.8815 - val_loss: 0.2549 - val_accuracy: 0.8979\n",
      "Epoch 19/20\n",
      "54/54 [==============================] - 2s 29ms/step - loss: 0.2725 - accuracy: 0.8823 - val_loss: 0.2545 - val_accuracy: 0.8981\n",
      "Epoch 20/20\n",
      "54/54 [==============================] - 4s 79ms/step - loss: 0.2693 - accuracy: 0.8830 - val_loss: 0.2519 - val_accuracy: 0.8986\n",
      "Model: \"sequential_32\"\n",
      "_________________________________________________________________\n",
      "Layer (type)                 Output Shape              Param #   \n",
      "=================================================================\n",
      "dense_110 (Dense)            (None, 20)                1860      \n",
      "_________________________________________________________________\n",
      "dropout_2 (Dropout)          (None, 20)                0         \n",
      "_________________________________________________________________\n",
      "dense_111 (Dense)            (None, 20)                420       \n",
      "_________________________________________________________________\n",
      "dropout_3 (Dropout)          (None, 20)                0         \n",
      "_________________________________________________________________\n",
      "dense_112 (Dense)            (None, 1)                 21        \n",
      "=================================================================\n",
      "Total params: 2,301\n",
      "Trainable params: 2,301\n",
      "Non-trainable params: 0\n",
      "_________________________________________________________________\n"
     ]
    }
   ],
   "source": [
    "from keras.layers import Dropout\n",
    "# Setup some training parameters\n",
    "batch_size = 10000\n",
    "epochs = 20\n",
    "input_shape = Xtrain.shape\n",
    "\n",
    "# Build and train model\n",
    "model9 = build_DNN(input_shape=input_shape,\n",
    "                   number_layers=2,\n",
    "                   number_nodes=20,\n",
    "                   act_fun='sigmoid',\n",
    "                   optimizer='sgd',\n",
    "                   learning_rate=0.1,\n",
    "                   use_bn=False,\n",
    "                   use_dropout=True)\n",
    "\n",
    "history9 = model9.fit(Xtrain,\n",
    "                      Ytrain,\n",
    "                      batch_size=batch_size,\n",
    "                      epochs=epochs,\n",
    "                      verbose=1,\n",
    "                      validation_data=(Xval,Yval),\n",
    "                      class_weight=class_weights) \n",
    "model9.summary()"
   ]
  },
  {
   "cell_type": "code",
   "execution_count": 102,
   "metadata": {},
   "outputs": [
    {
     "name": "stdout",
     "output_type": "stream",
     "text": [
      "12/12 [==============================] - 0s 6ms/step - loss: 0.2533 - accuracy: 0.8981\n",
      "Test loss: 0.2533\n",
      "Test accuracy: 0.8981\n"
     ]
    }
   ],
   "source": [
    "# Evaluate model on test data\n",
    "score = model9.evaluate(Xtest,Ytest,batch_size=10000)\n",
    "\n",
    "print('Test loss: %.4f' % score[0])\n",
    "print('Test accuracy: %.4f' % score[1])"
   ]
  },
  {
   "cell_type": "code",
   "execution_count": 103,
   "metadata": {},
   "outputs": [
    {
     "data": {
      "image/png": "[encoded data removed]",
      "text/plain": [
       "<Figure size 720x288 with 1 Axes>"
      ]
     },
     "metadata": {
      "needs_background": "light"
     },
     "output_type": "display_data"
    },
    {
     "data": {
      "image/png": "[encoded data removed]",
      "text/plain": [
       "<Figure size 720x288 with 1 Axes>"
      ]
     },
     "metadata": {
      "needs_background": "light"
     },
     "output_type": "display_data"
    }
   ],
   "source": [
    "plot_results(history9)"
   ]
  },
  {
   "cell_type": "markdown",
   "metadata": {},
   "source": [
    "# Part 19: Improving performance\n",
    "\n",
    "Spend some time (30 - 90 minutes) playing with the network architecture (number of layers, number of nodes per layer, activation function) and other hyper parameters (optimizer, learning rate, batch size, number of epochs, degree of regularization). For example, try a much deeper network. How much does the training time increase for a network with 10 layers?\n",
    "\n",
    "Question 17: How high classification accuracy can you achieve for the test data? What is your best configuration?"
   ]
  },
  {
   "cell_type": "code",
   "execution_count": null,
   "metadata": {},
   "outputs": [],
   "source": [
    "Best parameters observed are optimizer=adam, use_dropout = False,use batch normalization = True, activation_function = relu "
   ]
  },
  {
   "cell_type": "code",
   "execution_count": 104,
   "metadata": {
    "scrolled": true
   },
   "outputs": [
    {
     "name": "stdout",
     "output_type": "stream",
     "text": [
      "Epoch 1/20\n",
      "54/54 [==============================] - 5s 65ms/step - loss: 0.2371 - accuracy: 0.8858 - val_loss: 2.2838 - val_accuracy: 0.8676\n",
      "Epoch 2/20\n",
      "54/54 [==============================] - 2s 30ms/step - loss: 0.1768 - accuracy: 0.9109 - val_loss: 0.6623 - val_accuracy: 0.9022\n",
      "Epoch 3/20\n",
      "54/54 [==============================] - 5s 96ms/step - loss: 0.1716 - accuracy: 0.9130 - val_loss: 0.2554 - val_accuracy: 0.9113\n",
      "Epoch 4/20\n",
      "54/54 [==============================] - 3s 61ms/step - loss: 0.1636 - accuracy: 0.9166 - val_loss: 0.1582 - val_accuracy: 0.9168\n",
      "Epoch 5/20\n",
      "54/54 [==============================] - 3s 60ms/step - loss: 0.1629 - accuracy: 0.9170 - val_loss: 0.2357 - val_accuracy: 0.9189\n",
      "Epoch 6/20\n",
      "54/54 [==============================] - 3s 60ms/step - loss: 0.1608 - accuracy: 0.9172 - val_loss: 0.3316 - val_accuracy: 0.9173\n",
      "Epoch 7/20\n",
      "54/54 [==============================] - 3s 54ms/step - loss: 0.1593 - accuracy: 0.9180 - val_loss: 0.1966 - val_accuracy: 0.9202\n",
      "Epoch 8/20\n",
      "54/54 [==============================] - 3s 52ms/step - loss: 0.1577 - accuracy: 0.9186 - val_loss: 0.2708 - val_accuracy: 0.9193\n",
      "Epoch 9/20\n",
      "54/54 [==============================] - 3s 50ms/step - loss: 0.1554 - accuracy: 0.9192 - val_loss: 0.1873 - val_accuracy: 0.8711\n",
      "Epoch 10/20\n",
      "54/54 [==============================] - 2s 36ms/step - loss: 0.1534 - accuracy: 0.9198 - val_loss: 0.2320 - val_accuracy: 0.9224\n",
      "Epoch 11/20\n",
      "54/54 [==============================] - 6s 105ms/step - loss: 0.1545 - accuracy: 0.9190 - val_loss: 0.2076 - val_accuracy: 0.9205\n",
      "Epoch 12/20\n",
      "54/54 [==============================] - 4s 67ms/step - loss: 0.1496 - accuracy: 0.9208 - val_loss: 0.2501 - val_accuracy: 0.9183\n",
      "Epoch 13/20\n",
      "54/54 [==============================] - 3s 60ms/step - loss: 0.1472 - accuracy: 0.9226 - val_loss: 0.3643 - val_accuracy: 0.9213\n",
      "Epoch 14/20\n",
      "54/54 [==============================] - 3s 58ms/step - loss: 0.1450 - accuracy: 0.9239 - val_loss: 0.3624 - val_accuracy: 0.9138\n",
      "Epoch 15/20\n",
      "54/54 [==============================] - 3s 50ms/step - loss: 0.1468 - accuracy: 0.9235 - val_loss: 0.4121 - val_accuracy: 0.9165\n",
      "Epoch 16/20\n",
      "54/54 [==============================] - 3s 58ms/step - loss: 0.1417 - accuracy: 0.9264 - val_loss: 0.1496 - val_accuracy: 0.9138\n",
      "Epoch 17/20\n",
      "54/54 [==============================] - 2s 43ms/step - loss: 0.1453 - accuracy: 0.9245 - val_loss: 0.1960 - val_accuracy: 0.9200\n",
      "Epoch 18/20\n",
      "54/54 [==============================] - 2s 34ms/step - loss: 0.1374 - accuracy: 0.9298 - val_loss: 0.1962 - val_accuracy: 0.9234\n",
      "Epoch 19/20\n",
      "54/54 [==============================] - 2s 32ms/step - loss: 0.1392 - accuracy: 0.9288 - val_loss: 0.1971 - val_accuracy: 0.9203\n",
      "Epoch 20/20\n",
      "54/54 [==============================] - 5s 88ms/step - loss: 0.1467 - accuracy: 0.9243 - val_loss: 0.3906 - val_accuracy: 0.9122\n"
     ]
    }
   ],
   "source": [
    "# Find your best configuration for the DNN\n",
    "\n",
    "# Build and train DNN\n",
    "model10 = build_DNN(input_shape=input_shape,\n",
    "                   number_layers=5,\n",
    "                   number_nodes=60,\n",
    "                   act_fun='relu',\n",
    "                   optimizer='adam',\n",
    "                   learning_rate=0.1,\n",
    "                   use_bn=True,\n",
    "                   use_dropout=False)\n",
    "\n",
    "history10 = model10.fit(Xtrain,\n",
    "                      Ytrain,\n",
    "                      batch_size=batch_size,\n",
    "                      epochs=epochs,\n",
    "                      verbose=1,\n",
    "                      validation_data=(Xval,Yval),\n",
    "                      class_weight=class_weights)  \n"
   ]
  },
  {
   "cell_type": "code",
   "execution_count": 105,
   "metadata": {},
   "outputs": [
    {
     "name": "stdout",
     "output_type": "stream",
     "text": [
      "3582/3582 [==============================] - 9s 3ms/step - loss: 0.3944 - accuracy: 0.9117\n",
      "Test loss: 0.3944\n",
      "Test accuracy: 0.9117\n"
     ]
    }
   ],
   "source": [
    "# Evaluate DNN on test data\n",
    "score = model10.evaluate(Xtest,Ytest)\n",
    "\n",
    "print('Test loss: %.4f' % score[0])\n",
    "print('Test accuracy: %.4f' % score[1])"
   ]
  },
  {
   "cell_type": "markdown",
   "metadata": {},
   "source": [
    "# Part 20: Dropout uncertainty\n",
    "\n",
    "Dropout can also be used during testing, to obtain an estimate of the model uncertainty. Since dropout will randomly remove connections, the network will produce different results every time the same (test) data is put into the network. This technique is called Monte Carlo dropout. For more information, see this paper http://proceedings.mlr.press/v48/gal16.pdf\n",
    "\n",
    "To achieve this, we need to redefine the Keras Dropout call by running the cell below, and use 'myDropout' in each call to Dropout, in the cell that defines the DNN. The `build_DNN` function takes two boolean arguments, use_dropout and use_custom_dropout, add a standard Dropout layer if use_dropout is true, add a myDropout layer if use_custom_dropout is true.\n",
    "\n",
    "Run the same test data through the trained network 100 times, with dropout turned on. \n",
    "\n",
    "Question 18: What is the mean and the standard deviation of the test accuracy?"
   ]
  },
  {
   "cell_type": "code",
   "execution_count": null,
   "metadata": {},
   "outputs": [],
   "source": [
    "# The mean is 92.8% and standard deviation is approximated to  zero"
   ]
  },
  {
   "cell_type": "code",
   "execution_count": 107,
   "metadata": {},
   "outputs": [],
   "source": [
    "import keras.backend as K\n",
    "import keras\n",
    "\n",
    "class myDropout(keras.layers.Dropout):\n",
    "    \"\"\"Applies Dropout to the input.\n",
    "    Dropout consists in randomly setting\n",
    "    a fraction `rate` of input units to 0 at each update during training time,\n",
    "    which helps prevent overfitting.\n",
    "    # Arguments\n",
    "        rate: float between 0 and 1. Fraction of the input units to drop.\n",
    "        noise_shape: 1D integer tensor representing the shape of the\n",
    "            binary dropout mask that will be multiplied with the input.\n",
    "            For instance, if your inputs have shape\n",
    "            `(batch_size, timesteps, features)` and\n",
    "            you want the dropout mask to be the same for all timesteps,\n",
    "            you can use `noise_shape=(batch_size, 1, features)`.\n",
    "        seed: A Python integer to use as random seed.\n",
    "    # References\n",
    "        - [Dropout: A Simple Way to Prevent Neural Networks from Overfitting](\n",
    "           http://www.jmlr.org/papers/volume15/srivastava14a/srivastava14a.pdf)\n",
    "    \"\"\"\n",
    "    def __init__(self, rate, training=True, noise_shape=None, seed=None, **kwargs):\n",
    "        super(myDropout, self).__init__(rate, noise_shape=None, seed=None,**kwargs)\n",
    "        self.training = training\n",
    "\n",
    "        \n",
    "    def call(self, inputs, training=None):\n",
    "        if 0. < self.rate < 1.:\n",
    "            noise_shape = self._get_noise_shape(inputs)\n",
    "\n",
    "            def dropped_inputs():\n",
    "                return K.dropout(inputs, self.rate, noise_shape,\n",
    "                                 seed=self.seed)\n",
    "            if not training: \n",
    "                return K.in_train_phase(dropped_inputs, inputs, training=self.training)\n",
    "            return K.in_train_phase(dropped_inputs, inputs, training=training)\n",
    "        return inputs"
   ]
  },
  {
   "cell_type": "markdown",
   "metadata": {},
   "source": [
    "### Your best config, custom dropout"
   ]
  },
  {
   "cell_type": "code",
   "execution_count": 108,
   "metadata": {
    "scrolled": true
   },
   "outputs": [
    {
     "name": "stdout",
     "output_type": "stream",
     "text": [
      "Epoch 1/20\n",
      "54/54 [==============================] - 3s 45ms/step - loss: 0.2321 - accuracy: 0.8811 - val_loss: 1.4643 - val_accuracy: 0.8778\n",
      "Epoch 2/20\n",
      "54/54 [==============================] - 8s 157ms/step - loss: 0.1704 - accuracy: 0.9041 - val_loss: 0.3732 - val_accuracy: 0.9014\n",
      "Epoch 3/20\n",
      "54/54 [==============================] - 4s 74ms/step - loss: 0.1649 - accuracy: 0.9074 - val_loss: 0.1808 - val_accuracy: 0.8817\n",
      "Epoch 4/20\n",
      "54/54 [==============================] - 4s 72ms/step - loss: 0.1601 - accuracy: 0.9108 - val_loss: 0.2488 - val_accuracy: 0.9043\n",
      "Epoch 5/20\n",
      "54/54 [==============================] - 4s 72ms/step - loss: 0.1555 - accuracy: 0.9136 - val_loss: 0.1907 - val_accuracy: 0.8846\n",
      "Epoch 6/20\n",
      "54/54 [==============================] - 4s 65ms/step - loss: 0.1526 - accuracy: 0.9154 - val_loss: 0.2062 - val_accuracy: 0.8747\n",
      "Epoch 7/20\n",
      "54/54 [==============================] - 3s 62ms/step - loss: 0.1488 - accuracy: 0.9177 - val_loss: 0.2043 - val_accuracy: 0.8775\n",
      "Epoch 8/20\n",
      "54/54 [==============================] - 2s 45ms/step - loss: 0.1471 - accuracy: 0.9192 - val_loss: 0.1665 - val_accuracy: 0.9113\n",
      "Epoch 9/20\n",
      "54/54 [==============================] - 6s 122ms/step - loss: 0.1427 - accuracy: 0.9220 - val_loss: 0.1662 - val_accuracy: 0.9045\n",
      "Epoch 10/20\n",
      "54/54 [==============================] - 4s 78ms/step - loss: 0.1432 - accuracy: 0.9210 - val_loss: 0.1542 - val_accuracy: 0.9148\n",
      "Epoch 11/20\n",
      "54/54 [==============================] - 4s 70ms/step - loss: 0.1381 - accuracy: 0.9248 - val_loss: 0.1576 - val_accuracy: 0.9066\n",
      "Epoch 12/20\n",
      "54/54 [==============================] - 4s 68ms/step - loss: 0.1354 - accuracy: 0.9258 - val_loss: 0.2001 - val_accuracy: 0.8834\n",
      "Epoch 13/20\n",
      "54/54 [==============================] - 4s 68ms/step - loss: 0.1327 - accuracy: 0.9273 - val_loss: 0.2015 - val_accuracy: 0.8894\n",
      "Epoch 14/20\n",
      "54/54 [==============================] - 5s 91ms/step - loss: 0.1320 - accuracy: 0.9281 - val_loss: 0.1693 - val_accuracy: 0.9278\n",
      "Epoch 15/20\n",
      "54/54 [==============================] - 4s 76ms/step - loss: 0.1286 - accuracy: 0.9298 - val_loss: 0.1487 - val_accuracy: 0.9095\n",
      "Epoch 16/20\n",
      "54/54 [==============================] - 4s 73ms/step - loss: 0.1291 - accuracy: 0.9292 - val_loss: 0.2036 - val_accuracy: 0.9203\n",
      "Epoch 17/20\n",
      "54/54 [==============================] - 4s 74ms/step - loss: 0.1273 - accuracy: 0.9304 - val_loss: 0.1737 - val_accuracy: 0.9033\n",
      "Epoch 18/20\n",
      "54/54 [==============================] - 4s 69ms/step - loss: 0.1258 - accuracy: 0.9316 - val_loss: 0.1715 - val_accuracy: 0.9129\n",
      "Epoch 19/20\n",
      "54/54 [==============================] - 4s 68ms/step - loss: 0.1262 - accuracy: 0.9306 - val_loss: 0.1832 - val_accuracy: 0.9147\n",
      "Epoch 20/20\n",
      "54/54 [==============================] - 6s 107ms/step - loss: 0.1259 - accuracy: 0.9314 - val_loss: 0.1497 - val_accuracy: 0.9233\n"
     ]
    }
   ],
   "source": [
    "# Your best training parameters\n",
    "\n",
    "\n",
    "# Build and train model\n",
    "model11 = build_DNN(input_shape=input_shape,\n",
    "                   number_layers=5,\n",
    "                   number_nodes=60,\n",
    "                   act_fun='relu',\n",
    "                   optimizer='adam',\n",
    "                   learning_rate=0.1,\n",
    "                   use_bn=True,\n",
    "                   use_dropout=False,\n",
    "                   use_custom_dropout=True) \n",
    "\n",
    "history11 = model11.fit(Xtrain,\n",
    "                      Ytrain,\n",
    "                      batch_size=batch_size,\n",
    "                      epochs=epochs,\n",
    "                      verbose=1,\n",
    "                      validation_data=(Xval,Yval))  \n"
   ]
  },
  {
   "cell_type": "code",
   "execution_count": 109,
   "metadata": {},
   "outputs": [
    {
     "name": "stdout",
     "output_type": "stream",
     "text": [
      "3582/3582 [==============================] - 6s 2ms/step - loss: 0.1481 - accuracy: 0.9238\n",
      "Test accuracy: 0.9238\n"
     ]
    }
   ],
   "source": [
    "# Run this cell a few times to evalute the model on test data, \n",
    "# if you get slightly different test accuracy every time, Dropout during testing is working\n",
    "\n",
    "# Evaluate model on test data\n",
    "score = model11.evaluate(Xtest,Ytest)                      \n",
    "print('Test accuracy: %.4f' % score[1])\n"
   ]
  },
  {
   "cell_type": "code",
   "execution_count": 83,
   "metadata": {},
   "outputs": [
    {
     "name": "stdout",
     "output_type": "stream",
     "text": [
      "12/12 [==============================] - 0s 12ms/step - loss: 0.2327 - accuracy: 0.9282\n",
      "12/12 [==============================] - 0s 12ms/step - loss: 0.2326 - accuracy: 0.9283\n",
      "12/12 [==============================] - 0s 11ms/step - loss: 0.2328 - accuracy: 0.9284\n",
      "12/12 [==============================] - 0s 13ms/step - loss: 0.2329 - accuracy: 0.9283\n",
      "12/12 [==============================] - 0s 14ms/step - loss: 0.2329 - accuracy: 0.9283\n",
      "12/12 [==============================] - 0s 14ms/step - loss: 0.2329 - accuracy: 0.9281\n",
      "12/12 [==============================] - 0s 14ms/step - loss: 0.2329 - accuracy: 0.9283\n",
      "12/12 [==============================] - 0s 13ms/step - loss: 0.2327 - accuracy: 0.9284\n",
      "12/12 [==============================] - 0s 14ms/step - loss: 0.2324 - accuracy: 0.9283\n",
      "12/12 [==============================] - 0s 13ms/step - loss: 0.2328 - accuracy: 0.9283\n",
      "12/12 [==============================] - 0s 14ms/step - loss: 0.2327 - accuracy: 0.9284\n",
      "12/12 [==============================] - 0s 13ms/step - loss: 0.2327 - accuracy: 0.9283\n",
      "12/12 [==============================] - 0s 13ms/step - loss: 0.2326 - accuracy: 0.9282\n",
      "12/12 [==============================] - 0s 13ms/step - loss: 0.2336 - accuracy: 0.9284\n",
      "12/12 [==============================] - 0s 13ms/step - loss: 0.2332 - accuracy: 0.9282\n",
      "12/12 [==============================] - 0s 13ms/step - loss: 0.2327 - accuracy: 0.9284\n",
      "12/12 [==============================] - 0s 12ms/step - loss: 0.2327 - accuracy: 0.9282\n",
      "12/12 [==============================] - 0s 13ms/step - loss: 0.2334 - accuracy: 0.9282\n",
      "12/12 [==============================] - 0s 13ms/step - loss: 0.2333 - accuracy: 0.9280\n",
      "12/12 [==============================] - 0s 13ms/step - loss: 0.2329 - accuracy: 0.9284\n",
      "12/12 [==============================] - 0s 12ms/step - loss: 0.2332 - accuracy: 0.9282\n",
      "12/12 [==============================] - 0s 13ms/step - loss: 0.2328 - accuracy: 0.9282\n",
      "12/12 [==============================] - 0s 13ms/step - loss: 0.2331 - accuracy: 0.9285\n",
      "12/12 [==============================] - 0s 14ms/step - loss: 0.2328 - accuracy: 0.9281\n",
      "12/12 [==============================] - 0s 12ms/step - loss: 0.2323 - accuracy: 0.9283\n",
      "12/12 [==============================] - 0s 12ms/step - loss: 0.2327 - accuracy: 0.9283\n",
      "12/12 [==============================] - 0s 13ms/step - loss: 0.2331 - accuracy: 0.9283\n",
      "12/12 [==============================] - 0s 13ms/step - loss: 0.2334 - accuracy: 0.9282\n",
      "12/12 [==============================] - 0s 14ms/step - loss: 0.2330 - accuracy: 0.9282\n",
      "12/12 [==============================] - 0s 13ms/step - loss: 0.2327 - accuracy: 0.9282\n",
      "12/12 [==============================] - 0s 15ms/step - loss: 0.2327 - accuracy: 0.9283\n",
      "12/12 [==============================] - 0s 13ms/step - loss: 0.2327 - accuracy: 0.9283\n",
      "12/12 [==============================] - 0s 13ms/step - loss: 0.2325 - accuracy: 0.9282\n",
      "12/12 [==============================] - 0s 14ms/step - loss: 0.2331 - accuracy: 0.9282\n",
      "12/12 [==============================] - 0s 13ms/step - loss: 0.2327 - accuracy: 0.9284\n",
      "12/12 [==============================] - 0s 13ms/step - loss: 0.2328 - accuracy: 0.9284\n",
      "12/12 [==============================] - 0s 12ms/step - loss: 0.2331 - accuracy: 0.9282\n",
      "12/12 [==============================] - 0s 13ms/step - loss: 0.2327 - accuracy: 0.9284\n",
      "12/12 [==============================] - 0s 14ms/step - loss: 0.2324 - accuracy: 0.9282\n",
      "12/12 [==============================] - 0s 15ms/step - loss: 0.2328 - accuracy: 0.9284\n",
      "12/12 [==============================] - 0s 14ms/step - loss: 0.2321 - accuracy: 0.9284\n",
      "12/12 [==============================] - 0s 14ms/step - loss: 0.2325 - accuracy: 0.9282\n",
      "12/12 [==============================] - 0s 14ms/step - loss: 0.2324 - accuracy: 0.9284\n",
      "12/12 [==============================] - 0s 14ms/step - loss: 0.2324 - accuracy: 0.9283\n",
      "12/12 [==============================] - 0s 14ms/step - loss: 0.2331 - accuracy: 0.9283\n",
      "12/12 [==============================] - 0s 16ms/step - loss: 0.2323 - accuracy: 0.9283\n",
      "12/12 [==============================] - 0s 15ms/step - loss: 0.2335 - accuracy: 0.9282\n",
      "12/12 [==============================] - 0s 15ms/step - loss: 0.2321 - accuracy: 0.9282\n",
      "12/12 [==============================] - 0s 15ms/step - loss: 0.2331 - accuracy: 0.9282\n",
      "12/12 [==============================] - 0s 15ms/step - loss: 0.2327 - accuracy: 0.9282\n",
      "12/12 [==============================] - 0s 15ms/step - loss: 0.2327 - accuracy: 0.9281\n",
      "12/12 [==============================] - 0s 15ms/step - loss: 0.2321 - accuracy: 0.9283\n",
      "12/12 [==============================] - 0s 16ms/step - loss: 0.2328 - accuracy: 0.9283\n",
      "12/12 [==============================] - 0s 15ms/step - loss: 0.2329 - accuracy: 0.9281\n",
      "12/12 [==============================] - 0s 14ms/step - loss: 0.2326 - accuracy: 0.9284\n",
      "12/12 [==============================] - 0s 16ms/step - loss: 0.2324 - accuracy: 0.9282\n",
      "12/12 [==============================] - 0s 15ms/step - loss: 0.2327 - accuracy: 0.9284\n",
      "12/12 [==============================] - 0s 19ms/step - loss: 0.2326 - accuracy: 0.9285\n",
      "12/12 [==============================] - 0s 19ms/step - loss: 0.2336 - accuracy: 0.9284\n",
      "12/12 [==============================] - 0s 18ms/step - loss: 0.2328 - accuracy: 0.9282\n",
      "12/12 [==============================] - 0s 17ms/step - loss: 0.2328 - accuracy: 0.9283\n",
      "12/12 [==============================] - 0s 17ms/step - loss: 0.2329 - accuracy: 0.9282\n",
      "12/12 [==============================] - 0s 16ms/step - loss: 0.2328 - accuracy: 0.9283\n",
      "12/12 [==============================] - 0s 15ms/step - loss: 0.2326 - accuracy: 0.9283\n",
      "12/12 [==============================] - 0s 14ms/step - loss: 0.2331 - accuracy: 0.9281\n",
      "12/12 [==============================] - 0s 15ms/step - loss: 0.2317 - accuracy: 0.9282\n",
      "12/12 [==============================] - 0s 16ms/step - loss: 0.2329 - accuracy: 0.9283\n",
      "12/12 [==============================] - 0s 17ms/step - loss: 0.2322 - accuracy: 0.9282\n",
      "12/12 [==============================] - 0s 15ms/step - loss: 0.2327 - accuracy: 0.9283\n",
      "12/12 [==============================] - 0s 16ms/step - loss: 0.2332 - accuracy: 0.9281\n",
      "12/12 [==============================] - 0s 16ms/step - loss: 0.2324 - accuracy: 0.9285\n",
      "12/12 [==============================] - 0s 17ms/step - loss: 0.2331 - accuracy: 0.9281\n",
      "12/12 [==============================] - 0s 14ms/step - loss: 0.2327 - accuracy: 0.9285\n",
      "12/12 [==============================] - 0s 17ms/step - loss: 0.2324 - accuracy: 0.9282\n",
      "12/12 [==============================] - 0s 16ms/step - loss: 0.2327 - accuracy: 0.9283\n",
      "12/12 [==============================] - 0s 15ms/step - loss: 0.2326 - accuracy: 0.9284\n",
      "12/12 [==============================] - 0s 14ms/step - loss: 0.2331 - accuracy: 0.9282\n",
      "12/12 [==============================] - 0s 15ms/step - loss: 0.2325 - accuracy: 0.9284\n",
      "12/12 [==============================] - 0s 15ms/step - loss: 0.2322 - accuracy: 0.9283\n",
      "12/12 [==============================] - 0s 15ms/step - loss: 0.2324 - accuracy: 0.9283\n",
      "12/12 [==============================] - 0s 15ms/step - loss: 0.2328 - accuracy: 0.9283\n",
      "12/12 [==============================] - 0s 17ms/step - loss: 0.2327 - accuracy: 0.9281\n",
      "12/12 [==============================] - 0s 15ms/step - loss: 0.2325 - accuracy: 0.9282\n",
      "12/12 [==============================] - 0s 15ms/step - loss: 0.2330 - accuracy: 0.9284\n",
      "12/12 [==============================] - 0s 14ms/step - loss: 0.2325 - accuracy: 0.9282\n",
      "12/12 [==============================] - 0s 14ms/step - loss: 0.2328 - accuracy: 0.9283\n",
      "12/12 [==============================] - 0s 14ms/step - loss: 0.2330 - accuracy: 0.9283\n",
      "12/12 [==============================] - 0s 16ms/step - loss: 0.2326 - accuracy: 0.9284\n",
      "12/12 [==============================] - 0s 16ms/step - loss: 0.2329 - accuracy: 0.9282\n",
      "12/12 [==============================] - 0s 15ms/step - loss: 0.2331 - accuracy: 0.9282\n",
      "12/12 [==============================] - 0s 14ms/step - loss: 0.2328 - accuracy: 0.9282\n",
      "12/12 [==============================] - 0s 15ms/step - loss: 0.2328 - accuracy: 0.9284\n",
      "12/12 [==============================] - 0s 14ms/step - loss: 0.2322 - accuracy: 0.9283\n",
      "12/12 [==============================] - 0s 15ms/step - loss: 0.2324 - accuracy: 0.9284\n",
      "12/12 [==============================] - 0s 14ms/step - loss: 0.2327 - accuracy: 0.9283\n",
      "12/12 [==============================] - 0s 17ms/step - loss: 0.2324 - accuracy: 0.9281\n",
      "12/12 [==============================] - 0s 16ms/step - loss: 0.2338 - accuracy: 0.9283\n",
      "12/12 [==============================] - 0s 14ms/step - loss: 0.2325 - accuracy: 0.9284\n",
      "12/12 [==============================] - 0s 14ms/step - loss: 0.2329 - accuracy: 0.9283\n",
      "12/12 [==============================] - 0s 15ms/step - loss: 0.2329 - accuracy: 0.9282\n",
      "mean of test accuracies :  0.9282721322774887\n",
      "std of test accuracies :  9.920481306323685e-05\n"
     ]
    }
   ],
   "source": [
    "# Run the testing 100 times, and save the accuracies in an array\n",
    "accuracy=[]\n",
    "for i in range(1,101):\n",
    "    score= model11.evaluate(Xtest,Ytest,batch_size=10000)\n",
    "    accuracy.append(score[1])\n",
    "    \n",
    "# Calculate and print mean and std of accuracies\n",
    "mean_accuracy=np.mean(accuracy,axis=0)\n",
    "print(\"mean of test accuracies : \",mean_accuracy)\n",
    "sd_accuracy=np.std(accuracy,axis=0)\n",
    "print(\"std of test accuracies : \",sd_accuracy)\n"
   ]
  },
  {
   "cell_type": "markdown",
   "metadata": {},
   "source": [
    "# Part 21: Cross validation uncertainty\n",
    "\n",
    "Cross validation (CV) is often used to evaluate a model, by training and testing using different subsets of the data it is possible to get the uncertainty as the standard deviation over folds. We here use a help function from scikit-learn to setup the CV, see https://scikit-learn.org/stable/modules/generated/sklearn.model_selection.StratifiedKFold.html . Use 10 folds with shuffling, random state 1234. \n",
    "\n",
    "Note: We here assume that you have found the best hyper parameters, so here the data are only split into training and testing, no validation.\n",
    "\n",
    "---\n",
    "\n",
    "Question 19: What is the mean and the standard deviation of the test accuracy?\n",
    "\n",
    "Question 20: What is the main advantage of dropout compared to CV for estimating test uncertainty? The difference may not be so large in this notebook, but imagine that you have a network that takes 24 hours to train."
   ]
  },
  {
   "cell_type": "code",
   "execution_count": null,
   "metadata": {},
   "outputs": [],
   "source": [
    "#19. The mean of the test is 91.7% and standard deviation is zero\n",
    "#20. Dropout makes use of the whole data, while CV will parts of the data that may not be present in the original data"
   ]
  },
  {
   "cell_type": "code",
   "execution_count": 110,
   "metadata": {
    "scrolled": true
   },
   "outputs": [
    {
     "name": "stdout",
     "output_type": "stream",
     "text": [
      "Epoch 1/20\n",
      "49/49 [==============================] - 2s 39ms/step - loss: 0.6273 - accuracy: 0.7024 - val_loss: 0.5745 - val_accuracy: 0.7952\n",
      "Epoch 2/20\n",
      "49/49 [==============================] - 2s 43ms/step - loss: 0.4903 - accuracy: 0.8431 - val_loss: 0.4358 - val_accuracy: 0.8667\n",
      "Epoch 3/20\n",
      "49/49 [==============================] - 2s 34ms/step - loss: 0.3647 - accuracy: 0.8757 - val_loss: 0.3483 - val_accuracy: 0.8786\n",
      "Epoch 4/20\n",
      "49/49 [==============================] - 2s 32ms/step - loss: 0.2939 - accuracy: 0.8825 - val_loss: 0.3180 - val_accuracy: 0.8818\n",
      "Epoch 5/20\n",
      "49/49 [==============================] - 1s 29ms/step - loss: 0.2602 - accuracy: 0.8862 - val_loss: 0.2992 - val_accuracy: 0.8854\n",
      "Epoch 6/20\n",
      "49/49 [==============================] - 4s 72ms/step - loss: 0.2443 - accuracy: 0.8891 - val_loss: 0.2893 - val_accuracy: 0.8886\n",
      "Epoch 7/20\n",
      "49/49 [==============================] - 3s 52ms/step - loss: 0.2340 - accuracy: 0.8919 - val_loss: 0.2810 - val_accuracy: 0.8911\n",
      "Epoch 8/20\n",
      "49/49 [==============================] - 2s 44ms/step - loss: 0.2271 - accuracy: 0.8938 - val_loss: 0.2760 - val_accuracy: 0.8931\n",
      "Epoch 9/20\n",
      "49/49 [==============================] - 3s 52ms/step - loss: 0.2224 - accuracy: 0.8953 - val_loss: 0.2748 - val_accuracy: 0.8939\n",
      "Epoch 10/20\n",
      "49/49 [==============================] - 3s 52ms/step - loss: 0.2191 - accuracy: 0.8965 - val_loss: 0.2711 - val_accuracy: 0.8954\n",
      "Epoch 11/20\n",
      "49/49 [==============================] - 3s 55ms/step - loss: 0.2167 - accuracy: 0.8976 - val_loss: 0.2654 - val_accuracy: 0.8969\n",
      "Epoch 12/20\n",
      "49/49 [==============================] - 3s 52ms/step - loss: 0.2141 - accuracy: 0.8987 - val_loss: 0.2676 - val_accuracy: 0.8974\n",
      "Epoch 13/20\n",
      "49/49 [==============================] - 3s 51ms/step - loss: 0.2123 - accuracy: 0.8994 - val_loss: 0.2642 - val_accuracy: 0.8985\n",
      "Epoch 14/20\n",
      "49/49 [==============================] - 2s 49ms/step - loss: 0.2104 - accuracy: 0.9002 - val_loss: 0.2616 - val_accuracy: 0.8985\n",
      "Epoch 15/20\n",
      "49/49 [==============================] - 2s 45ms/step - loss: 0.2087 - accuracy: 0.9009 - val_loss: 0.2614 - val_accuracy: 0.8997\n",
      "Epoch 16/20\n",
      "49/49 [==============================] - 2s 44ms/step - loss: 0.2076 - accuracy: 0.9015 - val_loss: 0.2616 - val_accuracy: 0.8994\n",
      "Epoch 17/20\n",
      "49/49 [==============================] - 5s 110ms/step - loss: 0.2062 - accuracy: 0.9022 - val_loss: 0.2614 - val_accuracy: 0.9004\n",
      "Epoch 18/20\n",
      "49/49 [==============================] - 3s 67ms/step - loss: 0.2055 - accuracy: 0.9023 - val_loss: 0.2601 - val_accuracy: 0.9005\n",
      "Epoch 19/20\n",
      "49/49 [==============================] - 3s 53ms/step - loss: 0.2050 - accuracy: 0.9028 - val_loss: 0.2624 - val_accuracy: 0.9010\n",
      "Epoch 20/20\n",
      "49/49 [==============================] - 2s 47ms/step - loss: 0.2032 - accuracy: 0.9033 - val_loss: 0.2574 - val_accuracy: 0.9015\n",
      "Epoch 1/20\n",
      "49/49 [==============================] - 3s 49ms/step - loss: 0.6893 - accuracy: 0.4586 - val_loss: 0.6672 - val_accuracy: 0.6535\n",
      "Epoch 2/20\n",
      "49/49 [==============================] - 2s 33ms/step - loss: 0.6347 - accuracy: 0.7141 - val_loss: 0.6022 - val_accuracy: 0.7856\n",
      "Epoch 3/20\n",
      "49/49 [==============================] - 1s 30ms/step - loss: 0.5544 - accuracy: 0.8190 - val_loss: 0.5110 - val_accuracy: 0.8493\n",
      "Epoch 4/20\n",
      "49/49 [==============================] - 2s 31ms/step - loss: 0.4464 - accuracy: 0.8616 - val_loss: 0.4072 - val_accuracy: 0.8724\n",
      "Epoch 5/20\n",
      "49/49 [==============================] - 2s 37ms/step - loss: 0.3525 - accuracy: 0.8761 - val_loss: 0.3526 - val_accuracy: 0.8774\n",
      "Epoch 6/20\n",
      "49/49 [==============================] - 2s 42ms/step - loss: 0.2981 - accuracy: 0.8809 - val_loss: 0.3160 - val_accuracy: 0.8818\n",
      "Epoch 7/20\n",
      "49/49 [==============================] - 2s 44ms/step - loss: 0.2697 - accuracy: 0.8842 - val_loss: 0.3039 - val_accuracy: 0.8849\n",
      "Epoch 8/20\n",
      "49/49 [==============================] - 1s 28ms/step - loss: 0.2538 - accuracy: 0.8862 - val_loss: 0.2927 - val_accuracy: 0.8866\n",
      "Epoch 9/20\n",
      "49/49 [==============================] - 2s 34ms/step - loss: 0.2436 - accuracy: 0.8888 - val_loss: 0.2841 - val_accuracy: 0.8891\n",
      "Epoch 10/20\n",
      "49/49 [==============================] - 1s 26ms/step - loss: 0.2375 - accuracy: 0.8905 - val_loss: 0.2824 - val_accuracy: 0.8905\n",
      "Epoch 11/20\n",
      "49/49 [==============================] - 1s 28ms/step - loss: 0.2316 - accuracy: 0.8921 - val_loss: 0.2776 - val_accuracy: 0.8917\n",
      "Epoch 12/20\n",
      "49/49 [==============================] - 1s 26ms/step - loss: 0.2278 - accuracy: 0.8938 - val_loss: 0.2773 - val_accuracy: 0.8935\n",
      "Epoch 13/20\n",
      "49/49 [==============================] - 1s 30ms/step - loss: 0.2242 - accuracy: 0.8950 - val_loss: 0.2745 - val_accuracy: 0.8943\n",
      "Epoch 14/20\n",
      "49/49 [==============================] - 2s 33ms/step - loss: 0.2213 - accuracy: 0.8963 - val_loss: 0.2754 - val_accuracy: 0.8948\n",
      "Epoch 15/20\n",
      "49/49 [==============================] - 2s 30ms/step - loss: 0.2183 - accuracy: 0.8972 - val_loss: 0.2716 - val_accuracy: 0.8967\n",
      "Epoch 16/20\n",
      "49/49 [==============================] - 1s 26ms/step - loss: 0.2168 - accuracy: 0.8980 - val_loss: 0.2665 - val_accuracy: 0.8975\n",
      "Epoch 17/20\n",
      "49/49 [==============================] - 1s 30ms/step - loss: 0.2156 - accuracy: 0.8988 - val_loss: 0.2689 - val_accuracy: 0.8977\n",
      "Epoch 18/20\n",
      "49/49 [==============================] - 2s 35ms/step - loss: 0.2129 - accuracy: 0.8994 - val_loss: 0.2639 - val_accuracy: 0.8993\n",
      "Epoch 19/20\n",
      "49/49 [==============================] - 1s 30ms/step - loss: 0.2114 - accuracy: 0.9001 - val_loss: 0.2602 - val_accuracy: 0.8997\n",
      "Epoch 20/20\n",
      "49/49 [==============================] - 2s 35ms/step - loss: 0.2098 - accuracy: 0.9009 - val_loss: 0.2570 - val_accuracy: 0.9014s\n",
      "Epoch 1/20\n",
      "49/49 [==============================] - 3s 51ms/step - loss: 0.6889 - accuracy: 0.5077 - val_loss: 0.6565 - val_accuracy: 0.6763\n",
      "Epoch 2/20\n",
      "49/49 [==============================] - 2s 34ms/step - loss: 0.6229 - accuracy: 0.7401 - val_loss: 0.5841 - val_accuracy: 0.7866\n",
      "Epoch 3/20\n",
      "49/49 [==============================] - 2s 36ms/step - loss: 0.5254 - accuracy: 0.8289 - val_loss: 0.4692 - val_accuracy: 0.8537\n",
      "Epoch 4/20\n",
      "49/49 [==============================] - 2s 44ms/step - loss: 0.4117 - accuracy: 0.8651 - val_loss: 0.3812 - val_accuracy: 0.8692\n",
      "Epoch 5/20\n",
      "49/49 [==============================] - 2s 31ms/step - loss: 0.3306 - accuracy: 0.8758 - val_loss: 0.3328 - val_accuracy: 0.8760\n",
      "Epoch 6/20\n",
      "49/49 [==============================] - 2s 30ms/step - loss: 0.2861 - accuracy: 0.8798 - val_loss: 0.3097 - val_accuracy: 0.8790\n",
      "Epoch 7/20\n",
      "49/49 [==============================] - 2s 34ms/step - loss: 0.2623 - accuracy: 0.8834 - val_loss: 0.3005 - val_accuracy: 0.8811\n",
      "Epoch 8/20\n",
      "49/49 [==============================] - 2s 31ms/step - loss: 0.2480 - accuracy: 0.8862 - val_loss: 0.2872 - val_accuracy: 0.8858\n",
      "Epoch 9/20\n",
      "49/49 [==============================] - 2s 35ms/step - loss: 0.2397 - accuracy: 0.8887 - val_loss: 0.2796 - val_accuracy: 0.8881\n",
      "Epoch 10/20\n",
      "49/49 [==============================] - 1s 24ms/step - loss: 0.2329 - accuracy: 0.8910 - val_loss: 0.2795 - val_accuracy: 0.8898\n",
      "Epoch 11/20\n",
      "49/49 [==============================] - 1s 28ms/step - loss: 0.2285 - accuracy: 0.8925 - val_loss: 0.2724 - val_accuracy: 0.8917\n",
      "Epoch 12/20\n",
      "49/49 [==============================] - 2s 42ms/step - loss: 0.2234 - accuracy: 0.8940 - val_loss: 0.2699 - val_accuracy: 0.8928\n",
      "Epoch 13/20\n",
      "49/49 [==============================] - 2s 46ms/step - loss: 0.2211 - accuracy: 0.8950 - val_loss: 0.2717 - val_accuracy: 0.8934\n",
      "Epoch 14/20\n",
      "49/49 [==============================] - 2s 35ms/step - loss: 0.2178 - accuracy: 0.8960 - val_loss: 0.2719 - val_accuracy: 0.8940\n",
      "Epoch 15/20\n",
      "49/49 [==============================] - 2s 34ms/step - loss: 0.2149 - accuracy: 0.8970 - val_loss: 0.2680 - val_accuracy: 0.8950\n",
      "Epoch 16/20\n",
      "49/49 [==============================] - 2s 31ms/step - loss: 0.2135 - accuracy: 0.8974 - val_loss: 0.2653 - val_accuracy: 0.8956\n",
      "Epoch 17/20\n",
      "49/49 [==============================] - 1s 29ms/step - loss: 0.2115 - accuracy: 0.8981 - val_loss: 0.2666 - val_accuracy: 0.8957\n",
      "Epoch 18/20\n",
      "49/49 [==============================] - 2s 32ms/step - loss: 0.2099 - accuracy: 0.8986 - val_loss: 0.2632 - val_accuracy: 0.8969\n"
     ]
    },
    {
     "name": "stdout",
     "output_type": "stream",
     "text": [
      "Epoch 19/20\n",
      "49/49 [==============================] - 1s 28ms/step - loss: 0.2079 - accuracy: 0.8994 - val_loss: 0.2583 - val_accuracy: 0.8981\n",
      "Epoch 20/20\n",
      "49/49 [==============================] - 2s 31ms/step - loss: 0.2067 - accuracy: 0.8999 - val_loss: 0.2598 - val_accuracy: 0.8981\n",
      "Epoch 1/20\n",
      "49/49 [==============================] - 3s 46ms/step - loss: 0.6846 - accuracy: 0.6586 - val_loss: 0.6556 - val_accuracy: 0.6850\n",
      "Epoch 2/20\n",
      "49/49 [==============================] - 2s 35ms/step - loss: 0.6373 - accuracy: 0.7456 - val_loss: 0.6006 - val_accuracy: 0.7904\n",
      "Epoch 3/20\n",
      "49/49 [==============================] - 1s 26ms/step - loss: 0.5675 - accuracy: 0.8250 - val_loss: 0.5138 - val_accuracy: 0.8506\n",
      "Epoch 4/20\n",
      "49/49 [==============================] - 2s 31ms/step - loss: 0.4695 - accuracy: 0.8613 - val_loss: 0.4224 - val_accuracy: 0.8724\n",
      "Epoch 5/20\n",
      "49/49 [==============================] - 2s 31ms/step - loss: 0.3766 - accuracy: 0.8752 - val_loss: 0.3563 - val_accuracy: 0.8801\n",
      "Epoch 6/20\n",
      "49/49 [==============================] - 2s 33ms/step - loss: 0.3147 - accuracy: 0.8813 - val_loss: 0.3144 - val_accuracy: 0.8864\n",
      "Epoch 7/20\n",
      "49/49 [==============================] - 1s 28ms/step - loss: 0.2800 - accuracy: 0.8851 - val_loss: 0.2938 - val_accuracy: 0.8902\n",
      "Epoch 8/20\n",
      "49/49 [==============================] - 2s 36ms/step - loss: 0.2591 - accuracy: 0.8887 - val_loss: 0.2801 - val_accuracy: 0.8940\n",
      "Epoch 9/20\n",
      "49/49 [==============================] - 2s 30ms/step - loss: 0.2467 - accuracy: 0.8907 - val_loss: 0.2789 - val_accuracy: 0.8947\n",
      "Epoch 10/20\n",
      "49/49 [==============================] - 2s 35ms/step - loss: 0.2390 - accuracy: 0.8922 - val_loss: 0.2720 - val_accuracy: 0.8953\n",
      "Epoch 11/20\n",
      "49/49 [==============================] - 2s 32ms/step - loss: 0.2317 - accuracy: 0.8936 - val_loss: 0.2642 - val_accuracy: 0.8970\n",
      "Epoch 12/20\n",
      "49/49 [==============================] - 1s 28ms/step - loss: 0.2275 - accuracy: 0.8949 - val_loss: 0.2666 - val_accuracy: 0.8978\n",
      "Epoch 13/20\n",
      "49/49 [==============================] - 1s 27ms/step - loss: 0.2239 - accuracy: 0.8957 - val_loss: 0.2627 - val_accuracy: 0.8986\n",
      "Epoch 14/20\n",
      "49/49 [==============================] - 1s 30ms/step - loss: 0.2196 - accuracy: 0.8970 - val_loss: 0.2579 - val_accuracy: 0.9010\n",
      "Epoch 15/20\n",
      "49/49 [==============================] - 2s 31ms/step - loss: 0.2176 - accuracy: 0.8980 - val_loss: 0.2594 - val_accuracy: 0.9016\n",
      "Epoch 16/20\n",
      "49/49 [==============================] - 1s 28ms/step - loss: 0.2154 - accuracy: 0.8989 - val_loss: 0.2638 - val_accuracy: 0.9014\n",
      "Epoch 17/20\n",
      "49/49 [==============================] - 1s 30ms/step - loss: 0.2134 - accuracy: 0.9000 - val_loss: 0.2508 - val_accuracy: 0.9045\n",
      "Epoch 18/20\n",
      "49/49 [==============================] - 2s 33ms/step - loss: 0.2117 - accuracy: 0.9010 - val_loss: 0.2538 - val_accuracy: 0.9036\n",
      "Epoch 19/20\n",
      "49/49 [==============================] - 1s 30ms/step - loss: 0.2100 - accuracy: 0.9019 - val_loss: 0.2526 - val_accuracy: 0.9041\n",
      "Epoch 20/20\n",
      "49/49 [==============================] - 2s 33ms/step - loss: 0.2088 - accuracy: 0.9024 - val_loss: 0.2537 - val_accuracy: 0.9050\n",
      "Epoch 1/20\n",
      "49/49 [==============================] - 2s 34ms/step - loss: 0.6975 - accuracy: 0.5476 - val_loss: 0.6846 - val_accuracy: 0.5642\n",
      "Epoch 2/20\n",
      "49/49 [==============================] - 1s 31ms/step - loss: 0.6554 - accuracy: 0.6543 - val_loss: 0.6371 - val_accuracy: 0.7036\n",
      "Epoch 3/20\n",
      "49/49 [==============================] - 1s 24ms/step - loss: 0.5911 - accuracy: 0.7676 - val_loss: 0.5500 - val_accuracy: 0.8148\n",
      "Epoch 4/20\n",
      "49/49 [==============================] - 1s 15ms/step - loss: 0.4863 - accuracy: 0.8427 - val_loss: 0.4393 - val_accuracy: 0.8607\n",
      "Epoch 5/20\n",
      "49/49 [==============================] - 1s 14ms/step - loss: 0.3785 - accuracy: 0.8683 - val_loss: 0.3554 - val_accuracy: 0.8771\n",
      "Epoch 6/20\n",
      "49/49 [==============================] - 1s 15ms/step - loss: 0.3083 - accuracy: 0.8796 - val_loss: 0.3168 - val_accuracy: 0.8830\n",
      "Epoch 7/20\n",
      "49/49 [==============================] - 1s 22ms/step - loss: 0.2717 - accuracy: 0.8849 - val_loss: 0.2998 - val_accuracy: 0.8856\n",
      "Epoch 8/20\n",
      "49/49 [==============================] - 1s 28ms/step - loss: 0.2521 - accuracy: 0.8880 - val_loss: 0.2903 - val_accuracy: 0.8879\n",
      "Epoch 9/20\n",
      "49/49 [==============================] - 2s 33ms/step - loss: 0.2403 - accuracy: 0.8904 - val_loss: 0.2805 - val_accuracy: 0.8907\n",
      "Epoch 10/20\n",
      "49/49 [==============================] - 1s 26ms/step - loss: 0.2324 - accuracy: 0.8924 - val_loss: 0.2772 - val_accuracy: 0.8918\n",
      "Epoch 11/20\n",
      "49/49 [==============================] - 1s 29ms/step - loss: 0.2267 - accuracy: 0.8938 - val_loss: 0.2754 - val_accuracy: 0.8933\n",
      "Epoch 12/20\n",
      "49/49 [==============================] - 2s 31ms/step - loss: 0.2228 - accuracy: 0.8949 - val_loss: 0.2677 - val_accuracy: 0.8952\n",
      "Epoch 13/20\n",
      "49/49 [==============================] - 2s 34ms/step - loss: 0.2196 - accuracy: 0.8958 - val_loss: 0.2688 - val_accuracy: 0.8953\n",
      "Epoch 14/20\n",
      "49/49 [==============================] - 2s 46ms/step - loss: 0.2163 - accuracy: 0.8968 - val_loss: 0.2632 - val_accuracy: 0.8963\n",
      "Epoch 15/20\n",
      "49/49 [==============================] - 1s 29ms/step - loss: 0.2137 - accuracy: 0.8976 - val_loss: 0.2603 - val_accuracy: 0.8972\n",
      "Epoch 16/20\n",
      "49/49 [==============================] - 1s 31ms/step - loss: 0.2126 - accuracy: 0.8983 - val_loss: 0.2603 - val_accuracy: 0.8984\n",
      "Epoch 17/20\n",
      "49/49 [==============================] - 2s 35ms/step - loss: 0.2102 - accuracy: 0.8991 - val_loss: 0.2567 - val_accuracy: 0.8988\n",
      "Epoch 18/20\n",
      "49/49 [==============================] - 2s 33ms/step - loss: 0.2086 - accuracy: 0.8998 - val_loss: 0.2590 - val_accuracy: 0.8990\n",
      "Epoch 19/20\n",
      "49/49 [==============================] - 2s 33ms/step - loss: 0.2071 - accuracy: 0.9005 - val_loss: 0.2567 - val_accuracy: 0.8998\n",
      "Epoch 20/20\n",
      "49/49 [==============================] - 1s 30ms/step - loss: 0.2060 - accuracy: 0.9010 - val_loss: 0.2570 - val_accuracy: 0.8999\n",
      "Epoch 1/20\n",
      "49/49 [==============================] - 5s 92ms/step - loss: 0.6598 - accuracy: 0.7212 - val_loss: 0.6171 - val_accuracy: 0.7750\n",
      "Epoch 2/20\n",
      "49/49 [==============================] - 3s 55ms/step - loss: 0.5840 - accuracy: 0.8131 - val_loss: 0.5307 - val_accuracy: 0.8494\n",
      "Epoch 3/20\n",
      "49/49 [==============================] - 2s 43ms/step - loss: 0.4653 - accuracy: 0.8675 - val_loss: 0.4080 - val_accuracy: 0.8776\n",
      "Epoch 4/20\n",
      "49/49 [==============================] - 2s 51ms/step - loss: 0.3533 - accuracy: 0.8813 - val_loss: 0.3334 - val_accuracy: 0.8841\n",
      "Epoch 5/20\n",
      "49/49 [==============================] - 3s 52ms/step - loss: 0.2890 - accuracy: 0.8855 - val_loss: 0.3020 - val_accuracy: 0.8870\n",
      "Epoch 6/20\n",
      "49/49 [==============================] - 3s 52ms/step - loss: 0.2575 - accuracy: 0.8881 - val_loss: 0.2875 - val_accuracy: 0.8888\n",
      "Epoch 7/20\n",
      "49/49 [==============================] - 2s 50ms/step - loss: 0.2409 - accuracy: 0.8902 - val_loss: 0.2839 - val_accuracy: 0.8896\n",
      "Epoch 8/20\n",
      "49/49 [==============================] - 3s 52ms/step - loss: 0.2309 - accuracy: 0.8920 - val_loss: 0.2716 - val_accuracy: 0.8923\n",
      "Epoch 9/20\n",
      "49/49 [==============================] - 2s 48ms/step - loss: 0.2252 - accuracy: 0.8934 - val_loss: 0.2727 - val_accuracy: 0.8932\n",
      "Epoch 10/20\n",
      "49/49 [==============================] - 2s 45ms/step - loss: 0.2206 - accuracy: 0.8945 - val_loss: 0.2667 - val_accuracy: 0.8943\n",
      "Epoch 11/20\n",
      "49/49 [==============================] - 2s 47ms/step - loss: 0.2164 - accuracy: 0.8957 - val_loss: 0.2635 - val_accuracy: 0.8959\n",
      "Epoch 12/20\n",
      "49/49 [==============================] - 2s 51ms/step - loss: 0.2141 - accuracy: 0.8965 - val_loss: 0.2598 - val_accuracy: 0.8968\n",
      "Epoch 13/20\n",
      "49/49 [==============================] - 2s 48ms/step - loss: 0.2115 - accuracy: 0.8974 - val_loss: 0.2569 - val_accuracy: 0.8982\n",
      "Epoch 14/20\n",
      "49/49 [==============================] - 2s 49ms/step - loss: 0.2098 - accuracy: 0.8981 - val_loss: 0.2574 - val_accuracy: 0.8984\n",
      "Epoch 15/20\n",
      "49/49 [==============================] - 2s 48ms/step - loss: 0.2078 - accuracy: 0.8989 - val_loss: 0.2561 - val_accuracy: 0.8993\n",
      "Epoch 16/20\n",
      "49/49 [==============================] - 2s 47ms/step - loss: 0.2064 - accuracy: 0.8996 - val_loss: 0.2524 - val_accuracy: 0.9001\n"
     ]
    },
    {
     "name": "stdout",
     "output_type": "stream",
     "text": [
      "Epoch 17/20\n",
      "49/49 [==============================] - 2s 48ms/step - loss: 0.2051 - accuracy: 0.9001 - val_loss: 0.2527 - val_accuracy: 0.9005\n",
      "Epoch 18/20\n",
      "49/49 [==============================] - 2s 48ms/step - loss: 0.2037 - accuracy: 0.9009 - val_loss: 0.2498 - val_accuracy: 0.9012\n",
      "Epoch 19/20\n",
      "49/49 [==============================] - 2s 49ms/step - loss: 0.2022 - accuracy: 0.9013 - val_loss: 0.2508 - val_accuracy: 0.9012\n",
      "Epoch 20/20\n",
      "49/49 [==============================] - 2s 49ms/step - loss: 0.2018 - accuracy: 0.9020 - val_loss: 0.2500 - val_accuracy: 0.9027\n",
      "Epoch 1/20\n",
      "49/49 [==============================] - 3s 55ms/step - loss: 0.6798 - accuracy: 0.5357 - val_loss: 0.6443 - val_accuracy: 0.6843\n",
      "Epoch 2/20\n",
      "49/49 [==============================] - 2s 47ms/step - loss: 0.6055 - accuracy: 0.7543 - val_loss: 0.5564 - val_accuracy: 0.8138\n",
      "Epoch 3/20\n",
      "49/49 [==============================] - 2s 48ms/step - loss: 0.4958 - accuracy: 0.8438 - val_loss: 0.4356 - val_accuracy: 0.8688\n",
      "Epoch 4/20\n",
      "49/49 [==============================] - 2s 48ms/step - loss: 0.3833 - accuracy: 0.8728 - val_loss: 0.3548 - val_accuracy: 0.8804\n",
      "Epoch 5/20\n",
      "49/49 [==============================] - 2s 48ms/step - loss: 0.3116 - accuracy: 0.8810 - val_loss: 0.3154 - val_accuracy: 0.8844\n",
      "Epoch 6/20\n",
      "49/49 [==============================] - 2s 48ms/step - loss: 0.2727 - accuracy: 0.8855 - val_loss: 0.2938 - val_accuracy: 0.8883\n",
      "Epoch 7/20\n",
      "49/49 [==============================] - 2s 47ms/step - loss: 0.2520 - accuracy: 0.8887 - val_loss: 0.2843 - val_accuracy: 0.8909\n",
      "Epoch 8/20\n",
      "49/49 [==============================] - 2s 47ms/step - loss: 0.2395 - accuracy: 0.8907 - val_loss: 0.2745 - val_accuracy: 0.8935\n",
      "Epoch 9/20\n",
      "49/49 [==============================] - 2s 46ms/step - loss: 0.2317 - accuracy: 0.8930 - val_loss: 0.2698 - val_accuracy: 0.8951\n",
      "Epoch 10/20\n",
      "49/49 [==============================] - 2s 46ms/step - loss: 0.2263 - accuracy: 0.8944 - val_loss: 0.2717 - val_accuracy: 0.8953\n",
      "Epoch 11/20\n",
      "49/49 [==============================] - 2s 38ms/step - loss: 0.2219 - accuracy: 0.8954 - val_loss: 0.2658 - val_accuracy: 0.8970\n",
      "Epoch 12/20\n",
      "49/49 [==============================] - 2s 43ms/step - loss: 0.2182 - accuracy: 0.8965 - val_loss: 0.2632 - val_accuracy: 0.8973\n",
      "Epoch 13/20\n",
      "49/49 [==============================] - 2s 43ms/step - loss: 0.2161 - accuracy: 0.8972 - val_loss: 0.2611 - val_accuracy: 0.8991\n",
      "Epoch 14/20\n",
      "49/49 [==============================] - 2s 37ms/step - loss: 0.2133 - accuracy: 0.8979 - val_loss: 0.2598 - val_accuracy: 0.8990\n",
      "Epoch 15/20\n",
      "49/49 [==============================] - 2s 40ms/step - loss: 0.2116 - accuracy: 0.8988 - val_loss: 0.2577 - val_accuracy: 0.8997\n",
      "Epoch 16/20\n",
      "49/49 [==============================] - 2s 43ms/step - loss: 0.2100 - accuracy: 0.8993 - val_loss: 0.2619 - val_accuracy: 0.8998\n",
      "Epoch 17/20\n",
      "49/49 [==============================] - 2s 39ms/step - loss: 0.2086 - accuracy: 0.8998 - val_loss: 0.2567 - val_accuracy: 0.9010\n",
      "Epoch 18/20\n",
      "49/49 [==============================] - 2s 42ms/step - loss: 0.2074 - accuracy: 0.9003 - val_loss: 0.2570 - val_accuracy: 0.9010\n",
      "Epoch 19/20\n",
      "49/49 [==============================] - 2s 40ms/step - loss: 0.2063 - accuracy: 0.9009 - val_loss: 0.2576 - val_accuracy: 0.9012\n",
      "Epoch 20/20\n",
      "49/49 [==============================] - 2s 37ms/step - loss: 0.2054 - accuracy: 0.9011 - val_loss: 0.2558 - val_accuracy: 0.9026\n",
      "Epoch 1/20\n",
      "49/49 [==============================] - 3s 49ms/step - loss: 0.6760 - accuracy: 0.5444 - val_loss: 0.6519 - val_accuracy: 0.6633\n",
      "Epoch 2/20\n",
      "49/49 [==============================] - 2s 31ms/step - loss: 0.5918 - accuracy: 0.7721 - val_loss: 0.5303 - val_accuracy: 0.8425\n",
      "Epoch 3/20\n",
      "49/49 [==============================] - 2s 33ms/step - loss: 0.4673 - accuracy: 0.8589 - val_loss: 0.4156 - val_accuracy: 0.8711\n",
      "Epoch 4/20\n",
      "49/49 [==============================] - 1s 26ms/step - loss: 0.3575 - accuracy: 0.8758 - val_loss: 0.3445 - val_accuracy: 0.8790\n",
      "Epoch 5/20\n",
      "49/49 [==============================] - 1s 29ms/step - loss: 0.2959 - accuracy: 0.8806 - val_loss: 0.3114 - val_accuracy: 0.8826\n",
      "Epoch 6/20\n",
      "49/49 [==============================] - 2s 32ms/step - loss: 0.2651 - accuracy: 0.8841 - val_loss: 0.2911 - val_accuracy: 0.8877\n",
      "Epoch 7/20\n",
      "49/49 [==============================] - 1s 30ms/step - loss: 0.2487 - accuracy: 0.8872 - val_loss: 0.2794 - val_accuracy: 0.8905\n",
      "Epoch 8/20\n",
      "49/49 [==============================] - 2s 31ms/step - loss: 0.2383 - accuracy: 0.8899 - val_loss: 0.2746 - val_accuracy: 0.8931\n",
      "Epoch 9/20\n",
      "49/49 [==============================] - 1s 29ms/step - loss: 0.2322 - accuracy: 0.8917 - val_loss: 0.2726 - val_accuracy: 0.8938\n",
      "Epoch 10/20\n",
      "49/49 [==============================] - 1s 27ms/step - loss: 0.2270 - accuracy: 0.8931 - val_loss: 0.2698 - val_accuracy: 0.8952\n",
      "Epoch 11/20\n",
      "49/49 [==============================] - 1s 29ms/step - loss: 0.2230 - accuracy: 0.8944 - val_loss: 0.2680 - val_accuracy: 0.8961\n",
      "Epoch 12/20\n",
      "49/49 [==============================] - 1s 29ms/step - loss: 0.2208 - accuracy: 0.8952 - val_loss: 0.2668 - val_accuracy: 0.8965\n",
      "Epoch 13/20\n",
      "49/49 [==============================] - 2s 33ms/step - loss: 0.2171 - accuracy: 0.8965 - val_loss: 0.2627 - val_accuracy: 0.8975\n",
      "Epoch 14/20\n",
      "49/49 [==============================] - 2s 33ms/step - loss: 0.2155 - accuracy: 0.8971 - val_loss: 0.2600 - val_accuracy: 0.8984\n",
      "Epoch 15/20\n",
      "49/49 [==============================] - 1s 30ms/step - loss: 0.2135 - accuracy: 0.8979 - val_loss: 0.2557 - val_accuracy: 0.8992\n",
      "Epoch 16/20\n",
      "49/49 [==============================] - 2s 34ms/step - loss: 0.2120 - accuracy: 0.8986 - val_loss: 0.2611 - val_accuracy: 0.8993\n",
      "Epoch 17/20\n",
      "49/49 [==============================] - ETA: 0s - loss: 0.2107 - accuracy: 0.89 - 1s 30ms/step - loss: 0.2107 - accuracy: 0.8991 - val_loss: 0.2535 - val_accuracy: 0.9004\n",
      "Epoch 18/20\n",
      "49/49 [==============================] - 1s 30ms/step - loss: 0.2092 - accuracy: 0.8997 - val_loss: 0.2552 - val_accuracy: 0.9006\n",
      "Epoch 19/20\n",
      "49/49 [==============================] - 1s 30ms/step - loss: 0.2080 - accuracy: 0.9003 - val_loss: 0.2515 - val_accuracy: 0.9014\n",
      "Epoch 20/20\n",
      "49/49 [==============================] - 1s 26ms/step - loss: 0.2068 - accuracy: 0.9009 - val_loss: 0.2501 - val_accuracy: 0.9020\n",
      "Epoch 1/20\n",
      "49/49 [==============================] - 3s 42ms/step - loss: 0.6518 - accuracy: 0.7022 - val_loss: 0.6134 - val_accuracy: 0.7698\n",
      "Epoch 2/20\n",
      "49/49 [==============================] - 2s 31ms/step - loss: 0.5603 - accuracy: 0.8141 - val_loss: 0.5066 - val_accuracy: 0.8542\n",
      "Epoch 3/20\n",
      "49/49 [==============================] - 2s 44ms/step - loss: 0.4420 - accuracy: 0.8661 - val_loss: 0.4022 - val_accuracy: 0.8763\n",
      "Epoch 4/20\n",
      "49/49 [==============================] - 2s 36ms/step - loss: 0.3455 - accuracy: 0.8788 - val_loss: 0.3434 - val_accuracy: 0.8805\n",
      "Epoch 5/20\n",
      "49/49 [==============================] - 2s 31ms/step - loss: 0.2922 - accuracy: 0.8826 - val_loss: 0.3109 - val_accuracy: 0.8857\n",
      "Epoch 6/20\n",
      "49/49 [==============================] - 2s 32ms/step - loss: 0.2650 - accuracy: 0.8851 - val_loss: 0.2967 - val_accuracy: 0.8871\n",
      "Epoch 7/20\n",
      "49/49 [==============================] - ETA: 0s - loss: 0.2495 - accuracy: 0.88 - 1s 26ms/step - loss: 0.2494 - accuracy: 0.8877 - val_loss: 0.2853 - val_accuracy: 0.8900\n",
      "Epoch 8/20\n",
      "49/49 [==============================] - 1s 28ms/step - loss: 0.2410 - accuracy: 0.8899 - val_loss: 0.2828 - val_accuracy: 0.8917\n",
      "Epoch 9/20\n",
      "49/49 [==============================] - 2s 32ms/step - loss: 0.2342 - accuracy: 0.8917 - val_loss: 0.2785 - val_accuracy: 0.8934\n",
      "Epoch 10/20\n",
      "49/49 [==============================] - 2s 33ms/step - loss: 0.2297 - accuracy: 0.8931 - val_loss: 0.2712 - val_accuracy: 0.8954\n",
      "Epoch 11/20\n",
      "49/49 [==============================] - 2s 35ms/step - loss: 0.2252 - accuracy: 0.8945 - val_loss: 0.2669 - val_accuracy: 0.8965\n",
      "Epoch 12/20\n",
      "49/49 [==============================] - 1s 28ms/step - loss: 0.2222 - accuracy: 0.8954 - val_loss: 0.2648 - val_accuracy: 0.8973\n",
      "Epoch 13/20\n",
      "49/49 [==============================] - 2s 31ms/step - loss: 0.2191 - accuracy: 0.8963 - val_loss: 0.2617 - val_accuracy: 0.8978\n",
      "Epoch 14/20\n",
      "49/49 [==============================] - 2s 31ms/step - loss: 0.2166 - accuracy: 0.8970 - val_loss: 0.2629 - val_accuracy: 0.8989\n",
      "Epoch 15/20\n",
      "49/49 [==============================] - 2s 31ms/step - loss: 0.2146 - accuracy: 0.8975 - val_loss: 0.2607 - val_accuracy: 0.8991\n",
      "Epoch 16/20\n",
      "49/49 [==============================] - 2s 45ms/step - loss: 0.2127 - accuracy: 0.8983 - val_loss: 0.2595 - val_accuracy: 0.9001\n",
      "Epoch 17/20\n",
      "49/49 [==============================] - 2s 45ms/step - loss: 0.2111 - accuracy: 0.8992 - val_loss: 0.2556 - val_accuracy: 0.9010\n",
      "Epoch 18/20\n",
      "49/49 [==============================] - 2s 46ms/step - loss: 0.2089 - accuracy: 0.8998 - val_loss: 0.2507 - val_accuracy: 0.9028\n",
      "Epoch 19/20\n",
      "49/49 [==============================] - 2s 46ms/step - loss: 0.2075 - accuracy: 0.9008 - val_loss: 0.2539 - val_accuracy: 0.9031\n",
      "Epoch 20/20\n",
      "49/49 [==============================] - 2s 45ms/step - loss: 0.2065 - accuracy: 0.9013 - val_loss: 0.2519 - val_accuracy: 0.9039\n",
      "Epoch 1/20\n",
      "49/49 [==============================] - 2s 40ms/step - loss: 0.6833 - accuracy: 0.5287 - val_loss: 0.6600 - val_accuracy: 0.6726\n",
      "Epoch 2/20\n",
      "49/49 [==============================] - 1s 30ms/step - loss: 0.6400 - accuracy: 0.7243 - val_loss: 0.5945 - val_accuracy: 0.7923\n",
      "Epoch 3/20\n",
      "49/49 [==============================] - 2s 34ms/step - loss: 0.5494 - accuracy: 0.8272 - val_loss: 0.4835 - val_accuracy: 0.8565\n",
      "Epoch 4/20\n",
      "49/49 [==============================] - 2s 31ms/step - loss: 0.4240 - accuracy: 0.8676 - val_loss: 0.3776 - val_accuracy: 0.8772\n",
      "Epoch 5/20\n",
      "49/49 [==============================] - 1s 27ms/step - loss: 0.3266 - accuracy: 0.8800 - val_loss: 0.3279 - val_accuracy: 0.8821\n",
      "Epoch 6/20\n",
      "49/49 [==============================] - 2s 46ms/step - loss: 0.2755 - accuracy: 0.8847 - val_loss: 0.2989 - val_accuracy: 0.8864\n",
      "Epoch 7/20\n",
      "49/49 [==============================] - 2s 44ms/step - loss: 0.2508 - accuracy: 0.8882 - val_loss: 0.2806 - val_accuracy: 0.8901\n",
      "Epoch 8/20\n",
      "49/49 [==============================] - 2s 44ms/step - loss: 0.2368 - accuracy: 0.8909 - val_loss: 0.2716 - val_accuracy: 0.8921\n",
      "Epoch 9/20\n",
      "49/49 [==============================] - 2s 33ms/step - loss: 0.2289 - accuracy: 0.8927 - val_loss: 0.2711 - val_accuracy: 0.8935\n",
      "Epoch 10/20\n",
      "49/49 [==============================] - 2s 32ms/step - loss: 0.2222 - accuracy: 0.8942 - val_loss: 0.2675 - val_accuracy: 0.8943\n",
      "Epoch 11/20\n",
      "49/49 [==============================] - 1s 27ms/step - loss: 0.2189 - accuracy: 0.8953 - val_loss: 0.2598 - val_accuracy: 0.8966\n",
      "Epoch 12/20\n",
      "49/49 [==============================] - 2s 34ms/step - loss: 0.2155 - accuracy: 0.8967 - val_loss: 0.2620 - val_accuracy: 0.8970\n",
      "Epoch 13/20\n",
      "49/49 [==============================] - 2s 32ms/step - loss: 0.2126 - accuracy: 0.8979 - val_loss: 0.2629 - val_accuracy: 0.8972\n",
      "Epoch 14/20\n",
      "49/49 [==============================] - 2s 33ms/step - loss: 0.2106 - accuracy: 0.8985 - val_loss: 0.2584 - val_accuracy: 0.8988\n",
      "Epoch 15/20\n",
      "49/49 [==============================] - 1s 28ms/step - loss: 0.2089 - accuracy: 0.8995 - val_loss: 0.2549 - val_accuracy: 0.8996\n",
      "Epoch 16/20\n",
      "49/49 [==============================] - 2s 31ms/step - loss: 0.2073 - accuracy: 0.9001 - val_loss: 0.2589 - val_accuracy: 0.8997\n",
      "Epoch 17/20\n",
      "49/49 [==============================] - 2s 32ms/step - loss: 0.2059 - accuracy: 0.9006 - val_loss: 0.2566 - val_accuracy: 0.9006\n",
      "Epoch 18/20\n",
      "49/49 [==============================] - ETA: 0s - loss: 0.2052 - accuracy: 0.90 - 1s 28ms/step - loss: 0.2052 - accuracy: 0.9009 - val_loss: 0.2520 - val_accuracy: 0.9014\n",
      "Epoch 19/20\n",
      "49/49 [==============================] - 1s 26ms/step - loss: 0.2033 - accuracy: 0.9014 - val_loss: 0.2480 - val_accuracy: 0.9024\n",
      "Epoch 20/20\n",
      "49/49 [==============================] - 1s 27ms/step - loss: 0.2026 - accuracy: 0.9018 - val_loss: 0.2509 - val_accuracy: 0.9019\n",
      "The mean of cross validation is 0.9238\n",
      "The standard deviation of cross validation is 0.0006\n"
     ]
    }
   ],
   "source": [
    "from sklearn.model_selection import StratifiedKFold\n",
    "import random\n",
    "batch_size = 10000\n",
    "epochs = 20\n",
    "\n",
    "accuracy= np.array(np.arange(0,10), np.float32)\n",
    "i=0\n",
    "# random.seed(1234)\n",
    "# Define 10-fold cross validation\n",
    "skf = StratifiedKFold(n_splits=10)\n",
    "# Loop over cross validation folds\n",
    "for train_index, test_index in skf.split(Xtrain, Ytrain):\n",
    "\n",
    "    # Calculate class weights for current split\n",
    "    X_train, X_test = Xtrain[train_index], Xtrain[test_index]\n",
    "    y_train, y_test = Ytrain[train_index], Ytrain[test_index]\n",
    "    class_weights = class_weight.compute_class_weight(class_weight = 'balanced', classes = np.unique(y_train), y = y_train)\n",
    "    class_weights = {0: class_weights[0], 1: class_weights[1]}\n",
    "    input_shape = X_train.shape\n",
    "    # Rebuild the DNN model, to not continue training on the previously trained model\n",
    "    model12 = build_DNN(input_shape = input_shape, number_layers = 2, number_nodes=20,use_custom_dropout=True)\n",
    "    # Fit the model with training set and class weights for this fold\n",
    "    model12.fit(x=X_train,\n",
    "                y=y_train,\n",
    "                batch_size=batch_size,\n",
    "                epochs=epochs,\n",
    "                verbose=1,\n",
    "                validation_data=(X_test,y_test),\n",
    "                class_weight=class_weights)\n",
    "    # Evaluate the model using the test set for this fold\n",
    "    score = model11.evaluate(Xtest, Ytest, verbose=0)\n",
    "    # Save the test accuracy in an array\n",
    "    accuracy[i] = score[1]\n",
    "    i=i+1\n",
    "# Calculate and print mean and std of accuracies\n",
    "mean_v = np.mean(accuracy)\n",
    "std_v = np.std(accuracy)\n",
    "\n",
    "print('The mean of cross validation is %.4f'% mean_v)\n",
    "print('The standard deviation of cross validation is %.4f'% std_v)\n"
   ]
  },
  {
   "cell_type": "code",
   "execution_count": null,
   "metadata": {},
   "outputs": [],
   "source": [
    "# Part 22: DNN regression\n",
    "\n",
    "A similar DNN can be used for regression, instead of classification.\n",
    "\n",
    "Question 21: How would you change the DNN in order to use it for regression instead?\n",
    "            "
   ]
  },
  {
   "cell_type": "code",
   "execution_count": null,
   "metadata": {},
   "outputs": [],
   "source": [
    " # DNN for regression can be implemented by using no activation function at the output layer"
   ]
  },
  {
   "cell_type": "markdown",
   "metadata": {},
   "source": [
    "## Report\n",
    "\n",
    "Send in this jupyter notebook, with answers to all questions."
   ]
  }
 ],
 "metadata": {
  "kernelspec": {
   "display_name": "Python 3 (ipykernel)",
   "language": "python",
   "name": "python3"
  },
  "language_info": {
   "codemirror_mode": {
    "name": "ipython",
    "version": 3
   },
   "file_extension": ".py",
   "mimetype": "text/x-python",
   "name": "python",
   "nbconvert_exporter": "python",
   "pygments_lexer": "ipython3",
   "version": "3.9.12"
  }
 },
 "nbformat": 4,
 "nbformat_minor": 4
}
